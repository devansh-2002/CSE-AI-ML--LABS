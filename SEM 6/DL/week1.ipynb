{
 "cells": [
  {
   "cell_type": "code",
   "execution_count": 1,
   "id": "2ae2149c-b5c9-4662-b8a3-09c082b05285",
   "metadata": {},
   "outputs": [
    {
     "name": "stdout",
     "output_type": "stream",
     "text": [
      "before reshape :  tensor([1, 2, 3, 4, 5, 6])\n",
      "after reshape :  tensor([[1, 2],\n",
      "        [3, 4],\n",
      "        [5, 6]])\n",
      "view:  tensor([[1, 2, 3],\n",
      "        [4, 5, 6],\n",
      "        [7, 8, 9]])\n",
      "stack (dim 0): \n",
      " tensor([[1, 2, 3],\n",
      "        [4, 5, 6]])\n",
      "stack (dim 1): \n",
      " tensor([[1, 4],\n",
      "        [2, 5],\n",
      "        [3, 6]])\n",
      "d.size() =  torch.Size([3, 2, 5])\n",
      "e1 =  tensor([0., 1., 2., 3., 4., 5., 6., 7.])\n",
      "unsqueeze dim =0 :   torch.Size([1, 8])\n",
      "unsqueeze dim =1 :   torch.Size([8, 1])\n"
     ]
    }
   ],
   "source": [
    "# reshaping , viewing, stacking, squeezing and unsqueezing\n",
    "\n",
    "import torch\n",
    "\n",
    "a = torch.tensor([1,2,3,4,5,6])\n",
    "print('before reshape : ',a)\n",
    "\n",
    "a = a.reshape([3,2])\n",
    "print('after reshape : ',a)\n",
    "\n",
    "b = torch.tensor([1,2,3,4,5,6,7,8,9])\n",
    "print('view: ' ,b.view(3,3))\n",
    "\n",
    "c1= torch.tensor([1,2,3])\n",
    "c2 = torch.tensor([4,5,6])\n",
    "c = torch.stack((c1,c2), dim=0)\n",
    "print('stack (dim 0): \\n' ,c)\n",
    "\n",
    "c = torch.stack((c1,c2), dim=1)\n",
    "print('stack (dim 1): \\n' ,c)\n",
    "\n",
    "\n",
    "d1 = torch.randn(3,1,2,1,5)\n",
    "d = torch.squeeze(d1)\n",
    "print('d.size() = ',d.size())\n",
    "\n",
    "e1 = torch.arange(8, dtype=torch.float)\n",
    "print('e1 = ', e1)\n",
    "\n",
    "e = torch.unsqueeze(e1, dim=0)\n",
    "print('unsqueeze dim =0 :  ', e.size())\n",
    "\n",
    "e = torch.unsqueeze(e1, dim=1)\n",
    "print('unsqueeze dim =1 :  ', e.size())"
   ]
  },
  {
   "cell_type": "code",
   "execution_count": 2,
   "id": "6aedc0ff-a735-4f39-a425-2788ed85f790",
   "metadata": {},
   "outputs": [
    {
     "name": "stdout",
     "output_type": "stream",
     "text": [
      "torch.Size([3, 5, 2])\n",
      "tensor([[[ 1.0467, -0.6281],\n",
      "         [-0.3758, -0.2296],\n",
      "         [ 1.8729,  0.7482],\n",
      "         [ 1.7604, -0.3294],\n",
      "         [-0.3236,  0.8756]],\n",
      "\n",
      "        [[-0.4601,  0.9111],\n",
      "         [-1.0745, -0.1432],\n",
      "         [-0.1623,  0.0815],\n",
      "         [-0.0564,  1.6636],\n",
      "         [-0.0957, -0.1189]],\n",
      "\n",
      "        [[ 1.3231, -0.4398],\n",
      "         [-1.2671,  0.3552],\n",
      "         [ 0.4504,  0.4286],\n",
      "         [-0.2312, -1.0840],\n",
      "         [-0.3573,  0.3979]]])\n",
      "torch.Size([2, 3, 5])\n",
      "tensor([[[ 1.0467, -0.3758,  1.8729,  1.7604, -0.3236],\n",
      "         [-0.4601, -1.0745, -0.1623, -0.0564, -0.0957],\n",
      "         [ 1.3231, -1.2671,  0.4504, -0.2312, -0.3573]],\n",
      "\n",
      "        [[-0.6281, -0.2296,  0.7482, -0.3294,  0.8756],\n",
      "         [ 0.9111, -0.1432,  0.0815,  1.6636, -0.1189],\n",
      "         [-0.4398,  0.3552,  0.4286, -1.0840,  0.3979]]])\n"
     ]
    }
   ],
   "source": [
    "# use of permute\n",
    "# import pytorch library\n",
    "import torch\n",
    "\n",
    "# creating a tensor with random\n",
    "# values of dimension 3 X 5 X 2\n",
    "input_var = torch.randn(3, 5, 2)\n",
    "\n",
    "# print size\n",
    "print(input_var.size())\n",
    "\n",
    "print(input_var)\n",
    "\n",
    "# dimensions permuted\n",
    "input_var = input_var.permute(2, 0, 1)\n",
    "\n",
    "# print size\n",
    "print(input_var.size())\n",
    "\n",
    "print(input_var)"
   ]
  },
  {
   "cell_type": "code",
   "execution_count": 3,
   "id": "b7093178-9902-4ff8-9583-66b368b11629",
   "metadata": {},
   "outputs": [
    {
     "name": "stdout",
     "output_type": "stream",
     "text": [
      "tensor([[1, 5, 3],\n",
      "        [8, 9, 2]])\n",
      "at 1,0 =  tensor(8)\n",
      "at 1 =  tensor([8, 9, 2])\n"
     ]
    }
   ],
   "source": [
    "# indexing\n",
    "\n",
    "import torch\n",
    "\n",
    "tensor = torch.tensor([[1,5,3],[8,9,2]])\n",
    "\n",
    "print(tensor)\n",
    "\n",
    "print('at 1,0 = ' ,tensor[1,0])\n",
    "print('at 1 = ' ,tensor[1])"
   ]
  },
  {
   "cell_type": "code",
   "execution_count": 4,
   "id": "bb766dcf-7156-44df-941a-3654b7b92190",
   "metadata": {},
   "outputs": [
    {
     "name": "stdout",
     "output_type": "stream",
     "text": [
      "[[1 2 3]\n",
      " [5 6 6]\n",
      " [7 8 9]] <class 'numpy.ndarray'>\n",
      "tensor([[1, 2, 3],\n",
      "        [5, 6, 6],\n",
      "        [7, 8, 9]]) <class 'torch.Tensor'>\n",
      "[[1 2 3]\n",
      " [5 6 6]\n",
      " [7 8 9]] <class 'numpy.ndarray'>\n"
     ]
    }
   ],
   "source": [
    "# numpy array to tensor and back to numpy array\n",
    "import torch\n",
    "import numpy as np\n",
    "\n",
    "npx = np.array([[1,2,3],[5,6,6], [7,8,9]])\n",
    "print(npx, type(npx))\n",
    "\n",
    "# change to tensor\n",
    "t = torch.from_numpy(npx)\n",
    "\n",
    "print(t, type(t))\n",
    "\n",
    "npy = t.numpy()\n",
    "\n",
    "print(npy, type(npy))"
   ]
  },
  {
   "cell_type": "code",
   "execution_count": 5,
   "id": "31a8fe9d-14ed-44f3-a7ea-26d1c1670b1b",
   "metadata": {},
   "outputs": [
    {
     "name": "stdout",
     "output_type": "stream",
     "text": [
      "tensor([[0.0393, 0.6057, 0.4062, 0.8650, 0.6936, 0.3913, 0.9383],\n",
      "        [0.1498, 0.4351, 0.8501, 0.8986, 0.8936, 0.2534, 0.5907],\n",
      "        [0.5854, 0.9427, 0.8154, 0.2142, 0.9779, 0.0123, 0.9049],\n",
      "        [0.2148, 0.3298, 0.7098, 0.8109, 0.6662, 0.2799, 0.8792],\n",
      "        [0.1247, 0.8659, 0.1967, 0.8992, 0.5963, 0.8424, 0.2652],\n",
      "        [0.1384, 0.1061, 0.1913, 0.0822, 0.8909, 0.4112, 0.9977],\n",
      "        [0.4365, 0.7412, 0.4072, 0.9046, 0.4486, 0.8666, 0.5380]]) torch.Size([7, 7])\n"
     ]
    }
   ],
   "source": [
    "# random tensor of size 7 X 7\n",
    "import torch\n",
    "\n",
    "random_tensor = torch.rand(7,7)\n",
    "\n",
    "print(random_tensor, random_tensor.shape)"
   ]
  },
  {
   "cell_type": "code",
   "execution_count": 7,
   "id": "48b9d915-3f1d-4239-a0fb-5e5230547844",
   "metadata": {},
   "outputs": [
    {
     "ename": "RuntimeError",
     "evalue": "both arguments to matmul need to be at least 1D, but they are 0D and 2D",
     "output_type": "error",
     "traceback": [
      "\u001b[0;31m---------------------------------------------------------------------------\u001b[0m",
      "\u001b[0;31mRuntimeError\u001b[0m                              Traceback (most recent call last)",
      "Cell \u001b[0;32mIn[7], line 11\u001b[0m\n\u001b[1;32m      8\u001b[0m random_tensor \u001b[38;5;241m=\u001b[39m torch\u001b[38;5;241m.\u001b[39mrand((\u001b[38;5;241m1\u001b[39m, \u001b[38;5;241m7\u001b[39m), requires_grad\u001b[38;5;241m=\u001b[39m\u001b[38;5;28;01mTrue\u001b[39;00m)\n\u001b[1;32m     10\u001b[0m \u001b[38;5;66;03m# Perform matrix multiplication\u001b[39;00m\n\u001b[0;32m---> 11\u001b[0m result \u001b[38;5;241m=\u001b[39m torch\u001b[38;5;241m.\u001b[39mmatmul(a, random_tensor)\n\u001b[1;32m     13\u001b[0m \u001b[38;5;66;03m# Print the result\u001b[39;00m\n\u001b[1;32m     14\u001b[0m \u001b[38;5;28mprint\u001b[39m(\u001b[38;5;124m\"\u001b[39m\u001b[38;5;124mResult of matrix multiplication:\u001b[39m\u001b[38;5;124m\"\u001b[39m)\n",
      "\u001b[0;31mRuntimeError\u001b[0m: both arguments to matmul need to be at least 1D, but they are 0D and 2D"
     ]
    }
   ],
   "source": [
    "import torch\n",
    "from torch.autograd import Variable\n",
    "\n",
    "# Define the tensor 'a' from the previous code\n",
    "a = Variable(torch.tensor(1.0), requires_grad=True)\n",
    "\n",
    "# Define a random tensor of shape (1, 7)\n",
    "random_tensor = torch.rand((1, 7), requires_grad=True)\n",
    "\n",
    "# Perform matrix multiplication\n",
    "result = torch.matmul(a, random_tensor)\n",
    "\n",
    "# Print the result\n",
    "print(\"Result of matrix multiplication:\")\n",
    "print(result)\n",
    "\n",
    "# Compute the gradient\n",
    "result.backward()\n",
    "\n",
    "# Print the gradient of 'a'\n",
    "print(\"Gradient of 'a':\", a.grad)\n"
   ]
  },
  {
   "cell_type": "code",
   "execution_count": 8,
   "id": "2e4698d8-bb32-4ffd-9761-853263ba1d10",
   "metadata": {},
   "outputs": [
    {
     "name": "stdout",
     "output_type": "stream",
     "text": [
      "a.device =  cpu\n",
      "b.device =  cpu\n",
      "True\n",
      "a.device =  cuda:0\n",
      "b.device =  cuda:0\n"
     ]
    }
   ],
   "source": [
    "# generate 2 random tensors of size 3X2 and send them to gpu\n",
    "\n",
    "import torch\n",
    "\n",
    "a = torch.rand(2,3)\n",
    "b = torch.rand(2,3)\n",
    "\n",
    "print('a.device = ',a.device)\n",
    "print('b.device = ',b.device)\n",
    "\n",
    "# send to gpu\n",
    "print(torch.cuda.is_available())\n",
    "\n",
    "if torch.cuda.is_available():\n",
    "   a = a.cuda()\n",
    "   b = b.cuda()\n",
    "\n",
    "print('a.device = ',a.device)\n",
    "print('b.device = ',b.device)"
   ]
  },
  {
   "cell_type": "code",
   "execution_count": null,
   "id": "c77a4df2-2bf3-4a21-8f5b-d6b76e192522",
   "metadata": {},
   "outputs": [],
   "source": []
  }
 ],
 "metadata": {
  "kernelspec": {
   "display_name": "Python 3 (ipykernel)",
   "language": "python",
   "name": "python3"
  },
  "language_info": {
   "codemirror_mode": {
    "name": "ipython",
    "version": 3
   },
   "file_extension": ".py",
   "mimetype": "text/x-python",
   "name": "python",
   "nbconvert_exporter": "python",
   "pygments_lexer": "ipython3",
   "version": "3.11.7"
  }
 },
 "nbformat": 4,
 "nbformat_minor": 5
}
