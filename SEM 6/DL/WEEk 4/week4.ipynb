{
 "cells": [
  {
   "cell_type": "markdown",
   "id": "68cb5e98-efe1-4b6d-8b5b-27c27f7ae28c",
   "metadata": {},
   "source": [
    "# Feed Forward Network"
   ]
  },
  {
   "cell_type": "code",
   "execution_count": 1,
   "id": "d07a8e06-8d81-403f-9dad-0183bba72e54",
   "metadata": {},
   "outputs": [],
   "source": [
    "import torch\n",
    "import matplotlib.pyplot as plt\n",
    "from torch.utils.data import Dataset, DataLoader\n",
    "import torch.nn as nn\n",
    "import numpy as np"
   ]
  },
  {
   "cell_type": "code",
   "execution_count": 2,
   "id": "9c9ffe26-c7e4-47fa-8a58-bf8b94b26490",
   "metadata": {},
   "outputs": [
    {
     "data": {
      "text/plain": [
       "<torch._C.Generator at 0x7f287bfa2650>"
      ]
     },
     "execution_count": 2,
     "metadata": {},
     "output_type": "execute_result"
    }
   ],
   "source": [
    "losses = []\n",
    "torch.manual_seed(42)"
   ]
  },
  {
   "cell_type": "code",
   "execution_count": 3,
   "id": "85c49231-1021-498e-a66a-6868c7c3fabf",
   "metadata": {},
   "outputs": [
    {
     "data": {
      "text/plain": [
       "True"
      ]
     },
     "execution_count": 3,
     "metadata": {},
     "output_type": "execute_result"
    }
   ],
   "source": [
    "torch.cuda.is_available()"
   ]
  },
  {
   "cell_type": "code",
   "execution_count": 4,
   "id": "a0408a4a-9cbd-47ac-bbae-68e51514dcb4",
   "metadata": {},
   "outputs": [],
   "source": [
    "x = torch.tensor([[1,0],[0,2],[1,0],[1,1]], dtype=torch.float32)\n",
    "y = torch.tensor([0,1,1,0], dtype = torch.float32)"
   ]
  },
  {
   "cell_type": "code",
   "execution_count": 5,
   "id": "bd09ee0c-9f14-4dfb-b650-6c5d64666220",
   "metadata": {},
   "outputs": [],
   "source": [
    "class xor(nn.Module):\n",
    "    def __init__(self):\n",
    "        super(xor,self).__init__()\n",
    "        self.l1 = nn.Linear(2,2,bias=True)\n",
    "        self.sig1 = nn.Sigmoid()\n",
    "        self.l2 = nn.Linear(2,1,bias = True)\n",
    "        self.sig2 = nn.Sigmoid()\n",
    "    def forward(self, x):\n",
    "        x = self.l1(x)\n",
    "        x = self.sig1(x)\n",
    "        x = self.l2(x)\n",
    "        x = self.sig2(x)\n",
    "        return x"
   ]
  },
  {
   "cell_type": "code",
   "execution_count": 6,
   "id": "fd08e92f-1a4c-4a38-959a-d504e214eca4",
   "metadata": {},
   "outputs": [],
   "source": [
    "class mydata(Dataset):\n",
    "    def __init__(self, x, y):\n",
    "        self.x = x\n",
    "        self.y = y\n",
    "    def __len__(self):\n",
    "        return len(self.x)\n",
    "    def __getitem__(self, id):\n",
    "Drag files here to add them to your repository\n",
    "\n"
   ]
  },
  {
   "cell_type": "code",
   "execution_count": 7,
   "id": "920b21e8-23c3-46d7-8b18-feabd6ee9592",
   "metadata": {},
   "outputs": [
    {
     "name": "stdout",
     "output_type": "stream",
     "text": [
      "xor(\n",
      "  (l1): Linear(in_features=2, out_features=2, bias=True)\n",
      "  (sig1): Sigmoid()\n",
      "  (l2): Linear(in_features=2, out_features=1, bias=True)\n",
      "  (sig2): Sigmoid()\n",
      ")\n"
     ]
    }
   ],
   "source": [
    "data = mydata(x,y)\n",
    "batch = 1\n",
    "loader = DataLoader(data, batch_size = batch, shuffle = True)\n",
    "device = torch.device(\"cuda\")\n",
    "model = xor().to(device)\n",
    "print(model)"
   ]
  },
  {
   "cell_type": "code",
   "execution_count": 8,
   "id": "6b572328-c1be-4939-949a-cfa6bc242a7f",
   "metadata": {},
   "outputs": [],
   "source": [
    "loss = torch.nn.MSELoss()\n",
    "optim = torch.optim.SGD(model.parameters(), lr = 0.03)\n"
   ]
  },
  {
   "cell_type": "code",
   "execution_count": 9,
   "id": "ab4df4a1-9b34-4c10-8076-e683a9fe849c",
   "metadata": {},
   "outputs": [],
   "source": [
    "def train_one_epoch(index):\n",
    "    total = 0\n",
    "    for i, data in enumerate(loader):\n",
    "        inputs, labels = data\n",
    "        optim.zero_grad()\n",
    "        outputs = model(inputs)\n",
    "        l = loss(outputs.flatten(), labels)\n",
    "        l.backward()\n",
    "        optim.step()\n",
    "        total += l.item()\n",
    "    return total/len(loader)/batch"
   ]
  },
  {
   "cell_type": "code",
   "execution_count": 10,
   "id": "14ea8763-ddc9-4977-97f2-c0c7cd14cf88",
   "metadata": {},
   "outputs": [
    {
     "name": "stdout",
     "output_type": "stream",
     "text": [
      "epoch: 0\n",
      "Loss:0.2721938416361809\n",
      "\n",
      "epoch: 1000\n",
      "Loss:0.1984398066997528\n",
      "\n",
      "epoch: 2000\n",
      "Loss:0.17999912379309535\n",
      "\n",
      "epoch: 3000\n",
      "Loss:0.1729552773758769\n",
      "\n",
      "epoch: 4000\n",
      "Loss:0.1631110676098615\n",
      "\n",
      "epoch: 5000\n",
      "Loss:0.14742184849455953\n",
      "\n",
      "epoch: 6000\n",
      "Loss:0.138814945705235\n",
      "\n",
      "epoch: 7000\n",
      "Loss:0.13455965486355126\n",
      "\n",
      "epoch: 8000\n",
      "Loss:0.13223969005048275\n",
      "\n",
      "epoch: 9000\n",
      "Loss:0.13084082782734185\n",
      "\n"
     ]
    }
   ],
   "source": [
    "epochs = 10000\n",
    "for epoch in range(epochs):\n",
    "    model.train(True)\n",
    "    l = train_one_epoch(model)\n",
    "    losses.append(l)\n",
    "    if epoch%1000==0:\n",
    "        print(f\"epoch: {epoch}\\nLoss:{l}\\n\")"
   ]
  },
  {
   "cell_type": "code",
   "execution_count": 11,
   "id": "69dcc8b3-ef90-4fdf-99ee-8e81f6837139",
   "metadata": {},
   "outputs": [
    {
     "data": {
      "text/plain": [
       "[<matplotlib.lines.Line2D at 0x7f27b4166590>]"
      ]
     },
     "execution_count": 11,
     "metadata": {},
     "output_type": "execute_result"
    },
    {
     "data": {
      "image/png": "[encoded data removed]",
      "text/plain": [
       "<Figure size 640x480 with 1 Axes>"
      ]
     },
     "metadata": {},
     "output_type": "display_data"
    }
   ],
   "source": [
    "plt.plot(losses)"
   ]
  },
  {
   "cell_type": "code",
   "execution_count": 12,
   "id": "3cffe929-bb1a-4a8b-9f3c-184cc1614352",
   "metadata": {},
   "outputs": [],
   "source": [
    "def sigmoid(x):\n",
    "    return 1.0/(1+torch.exp(-x))\n"
   ]
  },
  {
   "cell_type": "code",
   "execution_count": 13,
   "id": "c693a7b4-8449-4a90-9dfc-e6ca984b570e",
   "metadata": {},
   "outputs": [
    {
     "name": "stdout",
     "output_type": "stream",
     "text": [
      "tensor([0.9698], device='cuda:0', grad_fn=<MulBackward0>)\n"
     ]
    }
   ],
   "source": [
    "test = torch.tensor([0,0], dtype = torch.float32).to(device)\n",
    "answer = 1\n",
    "layer1 = torch.matmul(model.l1.weight, test) + model.l1.bias\n",
    "layer1 = sigmoid(layer1)\n",
    "layer2 = torch.matmul(model.l2.weight, layer1) + model.l2.bias\n",
    "layer2 = sigmoid(layer2)\n",
    "print(layer2)"
   ]
  },
  {
   "cell_type": "code",
   "execution_count": null,
   "id": "6457f12b-c26a-4adc-a0ef-ef0d8ad5621c",
   "metadata": {},
   "outputs": [],
   "source": []
  }
 ],
 "metadata": {
  "kernelspec": {
   "display_name": "Python 3 (ipykernel)",
   "language": "python",
   "name": "python3"
  },
  "language_info": {
   "codemirror_mode": {
    "name": "ipython",
    "version": 3
   },
   "file_extension": ".py",
   "mimetype": "text/x-python",
   "name": "python",
   "nbconvert_exporter": "python",
   "pygments_lexer": "ipython3",
   "version": "3.11.7"
  }
 },
 "nbformat": 4,
 "nbformat_minor": 5
}
