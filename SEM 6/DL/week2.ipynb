{
 "cells": [
  {
   "cell_type": "code",
   "execution_count": 1,
   "id": "b66f7380-205c-42e3-8476-ed43e93fe95d",
   "metadata": {},
   "outputs": [],
   "source": [
    "import torch"
   ]
  },
  {
   "cell_type": "code",
   "execution_count": 6,
   "id": "7c191d8a-931b-4ba7-961c-430442b88dbb",
   "metadata": {},
   "outputs": [
    {
     "data": {
      "text/plain": [
       "tensor([0.3819, 0.2462, 0.2539, 0.8363, 0.8517], requires_grad=True)"
      ]
     },
     "execution_count": 6,
     "metadata": {},
     "output_type": "execute_result"
    }
   ],
   "source": [
    "x=torch.rand(5,requires_grad=True)\n",
    "x"
   ]
  },
  {
   "cell_type": "code",
   "execution_count": 11,
   "id": "e3aec61b-ef45-49d3-a234-6e7adc9f3788",
   "metadata": {},
   "outputs": [
    {
     "name": "stdout",
     "output_type": "stream",
     "text": [
      "x: tensor(3.5000, requires_grad=True)\n",
      "y: tensor(12.2500, grad_fn=<MulBackward0>)\n",
      "z: tensor(27.5000, grad_fn=<AddBackward0>)\n",
      "working out gradient dz/dx\n",
      "gradient at x=3.5 tensor(14.)\n"
     ]
    }
   ],
   "source": [
    "#solved 1\n",
    "x=torch.tensor(3.5,requires_grad=True)\n",
    "y=x*x\n",
    "z=2*y+3\n",
    "print(\"x:\",x)\n",
    "print(\"y:\",y)\n",
    "print(\"z:\",z)\n",
    "\n",
    "z.backward()\n",
    "print(\"working out gradient dz/dx\")\n",
    "print(\"gradient at x=3.5\",x.grad)\n"
   ]
  },
  {
   "cell_type": "code",
   "execution_count": 14,
   "id": "459ec4e2-3ce7-4837-9015-84a570a2ced6",
   "metadata": {},
   "outputs": [
    {
     "name": "stdout",
     "output_type": "stream",
     "text": [
      "Analytical f'(x) tensor([-2.], grad_fn=<MulBackward0>)\n",
      "Pytorch f'(x) tensor([-2.])\n"
     ]
    }
   ],
   "source": [
    "#solved 2\n",
    "def f(x):\n",
    "    return (x-2)**2\n",
    "\n",
    "def fp(x):\n",
    "    return 2*(x-2)\n",
    "\n",
    "x=torch.tensor([1.0],requires_grad=True)\n",
    "y=f(x)\n",
    "y.backward()\n",
    "print(\"Analytical f'(x)\",fp(x))\n",
    "print(\"Pytorch f'(x)\",x.grad)\n"
   ]
  },
  {
   "cell_type": "code",
   "execution_count": 18,
   "id": "bdfef073-47af-49e7-9a1b-0d778045bd6c",
   "metadata": {},
   "outputs": [
    {
     "name": "stdout",
     "output_type": "stream",
     "text": [
      "tensor([9.], grad_fn=<AddBackward0>)\n",
      "pytorch gradient tensor([4.])\n",
      "Analytical gradient tensor([4.], grad_fn=<MulBackward0>)\n"
     ]
    }
   ],
   "source": [
    "#solved 3\n",
    "x=torch.tensor([2.0],requires_grad=True)\n",
    "y=x**2+5\n",
    "print(y)\n",
    "y.backward()\n",
    "print(\"pytorch gradient\",x.grad)\n",
    "dy_dx=2*x\n",
    "print(\"Analytical gradient\",dy_dx)\n"
   ]
  },
  {
   "cell_type": "code",
   "execution_count": null,
   "id": "b692b158-700c-435f-b688-ead7e87e17ca",
   "metadata": {},
   "outputs": [],
   "source": [
    "#solved 4\n"
   ]
  },
  {
   "cell_type": "code",
   "execution_count": 8,
   "id": "4326c24b-7267-4530-838b-d4445c7ce0cd",
   "metadata": {},
   "outputs": [
    {
     "name": "stdout",
     "output_type": "stream",
     "text": [
      "Analytical gradient (dz/da): 34.0\n",
      "PyTorch computed gradient (dz/da): 34.0\n"
     ]
    }
   ],
   "source": [
    "#q1\n",
    "\n",
    "import torch\n",
    "from torch.autograd import Variable\n",
    "\n",
    "# Define variables\n",
    "a = Variable(torch.tensor(1.0), requires_grad=True)\n",
    "b = Variable(torch.tensor(2.0), requires_grad=True)\n",
    "\n",
    "# Define equations\n",
    "x = 2*a + 3*b\n",
    "y = 5*a**2 + 3*b**3\n",
    "z = 2*x + 3*y\n",
    "\n",
    "# Compute the gradient dz/da\n",
    "z.backward()\n",
    "\n",
    "# Print the analytical gradient\n",
    "analytical_gradient = 4 + 30*a.data.item()\n",
    "print(\"Analytical gradient (dz/da):\", analytical_gradient)\n",
    "\n",
    "# Print the PyTorch computed gradient\n",
    "pytorch_gradient = a.grad.item()\n",
    "print(\"PyTorch computed gradient (dz/da):\", pytorch_gradient)\n"
   ]
  },
  {
   "cell_type": "code",
   "execution_count": 16,
   "id": "425bb79c-c1bc-4aff-9492-00dfdd287252",
   "metadata": {},
   "outputs": [
    {
     "name": "stdout",
     "output_type": "stream",
     "text": [
      "da/dw= 2.0\n"
     ]
    }
   ],
   "source": [
    "#q2\n",
    "b = Variable(torch.tensor(1.0), requires_grad=True)\n",
    "x = Variable(torch.tensor(2.0), requires_grad=True)\n",
    "w = Variable(torch.tensor(3.0), requires_grad=True)\n",
    "u=w*x\n",
    "v=u+b\n",
    "a=torch.relu(v)\n",
    "\n",
    "a.backward()\n",
    "print(\"da/dw=\",w.grad.item())"
   ]
  },
  {
   "cell_type": "code",
   "execution_count": 17,
   "id": "e2c479ca-5c21-472c-b159-a0516cca1cd2",
   "metadata": {},
   "outputs": [
    {
     "name": "stdout",
     "output_type": "stream",
     "text": [
      "da/dw= 0.0018203349318355322\n"
     ]
    }
   ],
   "source": [
    "#q3\n",
    "b = Variable(torch.tensor(1.0), requires_grad=True)\n",
    "x = Variable(torch.tensor(2.0), requires_grad=True)\n",
    "w = Variable(torch.tensor(3.0), requires_grad=True)\n",
    "u=w*x\n",
    "v=u+b\n",
    "a=torch.sigmoid(v)\n",
    "a.backward()\n",
    "print(\"da/dw=\",w.grad.item())"
   ]
  },
  {
   "cell_type": "code",
   "execution_count": 25,
   "id": "6ed1cc57-ae24-4c53-b9a3-0f27852f820f",
   "metadata": {},
   "outputs": [
    {
     "name": "stdout",
     "output_type": "stream",
     "text": [
      "Corrected Analytical gradient (df/dx): -0.0007545282132923603\n",
      "PyTorch computed gradient (df/dx): -0.0007545282132923603\n"
     ]
    }
   ],
   "source": [
    "#q4\n",
    "x = Variable(torch.tensor(2.0), requires_grad=True)\n",
    "\n",
    "f = torch.exp(-x**2 - 2*x - torch.sin(x))\n",
    "f.backward()\n",
    "\n",
    "corrected_analytical_gradient = torch.exp(-x**2-2*x-torch.sin(x))*(-2*x-2-torch.cos(x))\n",
    "\n",
    "print(\"Corrected Analytical gradient (df/dx):\", corrected_analytical_gradient.item())\n",
    "print(\"PyTorch computed gradient (df/dx):\", x.grad.item())"
   ]
  },
  {
   "cell_type": "code",
   "execution_count": 21,
   "id": "24bf7abd-e6d8-475e-9e71-f752cdaf4189",
   "metadata": {},
   "outputs": [
    {
     "name": "stdout",
     "output_type": "stream",
     "text": [
      "Analytical gradient (dy/dx): 326.0\n",
      "PyTorch computed gradient (dy/dx): 326.0\n"
     ]
    }
   ],
   "source": [
    "#q5\n",
    "x = Variable(torch.tensor(2.0), requires_grad=True)\n",
    "y = 8*x**4 + 3*x**3 + 7*x**2 + 6*x + 3\n",
    "y.backward()\n",
    "\n",
    "analytical_gradient = 32*x**3 + 9*x**2 + 14*x + 6\n",
    "\n",
    "print(\"Analytical gradient (dy/dx):\", analytical_gradient.item())\n",
    "print(\"PyTorch computed gradient (dy/dx):\", x.grad.item())"
   ]
  },
  {
   "cell_type": "code",
   "execution_count": 32,
   "id": "91196b5a-536c-40b5-b176-85eead2abb02",
   "metadata": {},
   "outputs": [
    {
     "name": "stdout",
     "output_type": "stream",
     "text": [
      "PyTorch computed gradient (df/dx): 0.01692589558660984\n"
     ]
    }
   ],
   "source": [
    "#q6\n",
    "x = Variable(torch.tensor(3.0), requires_grad=True)\n",
    "y = Variable(torch.tensor(2.0), requires_grad=True)\n",
    "z = Variable(torch.tensor(1.0), requires_grad=True)\n",
    "\n",
    "f = torch.tanh(torch.log(1+z*2*x)/(torch.sin(y)))\n",
    "f.backward()\n",
    "\n",
    "pytorch_gradient = x.grad\n",
    "\n",
    "print(\"PyTorch computed gradient (df/dx):\", x.grad.item())"
   ]
  },
  {
   "cell_type": "code",
   "execution_count": null,
   "id": "bd443249-c9c7-465a-bc6f-9a87e2f4ebd2",
   "metadata": {},
   "outputs": [],
   "source": []
  }
 ],
 "metadata": {
  "kernelspec": {
   "display_name": "Python 3 (ipykernel)",
   "language": "python",
   "name": "python3"
  },
  "language_info": {
   "codemirror_mode": {
    "name": "ipython",
    "version": 3
   },
   "file_extension": ".py",
   "mimetype": "text/x-python",
   "name": "python",
   "nbconvert_exporter": "python",
   "pygments_lexer": "ipython3",
   "version": "3.11.7"
  }
 },
 "nbformat": 4,
 "nbformat_minor": 5
}
