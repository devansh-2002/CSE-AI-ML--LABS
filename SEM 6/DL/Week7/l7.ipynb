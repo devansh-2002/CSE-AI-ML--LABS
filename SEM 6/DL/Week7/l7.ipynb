{
  "nbformat": 4,
  "nbformat_minor": 0,
  "metadata": {
    "colab": {
      "provenance": [],
      "gpuType": "T4"
    },
    "kernelspec": {
      "name": "python3",
      "display_name": "Python 3"
    },
    "language_info": {
      "name": "python"
    },
    "accelerator": "GPU"
  },
  "cells": [
    {
      "cell_type": "markdown",
      "source": [
        "Implement L2 regularization on cat-dog classification neural network. Train the model on the\n",
        "dataset, and observe the impact of the regularization on the weight parameters. (Do not use\n",
        "data augmentation).\n",
        "a. L2 regularization using optimizer’s weight decay\n",
        "b. L2 regularization using loop to find L2 norm of weights"
      ],
      "metadata": {
        "id": "-8zL3eD85o8j"
      }
    },
    {
      "cell_type": "code",
      "source": [
        "!wget https://storage.googleapis.com/mledu-datasets/cats_and_dogs_filtered.zip\n"
      ],
      "metadata": {
        "colab": {
          "base_uri": "https://localhost:8080/"
        },
        "id": "w49N_2Ul7B7p",
        "outputId": "c9de71e3-6f66-4d91-82fb-5329b0c41f1e"
      },
      "execution_count": null,
      "outputs": [
        {
          "output_type": "stream",
          "name": "stdout",
          "text": [
            "--2024-02-27 05:09:29--  https://storage.googleapis.com/mledu-datasets/cats_and_dogs_filtered.zip\n",
            "Resolving storage.googleapis.com (storage.googleapis.com)... 142.251.2.207, 2607:f8b0:4023:c0b::cf, 2607:f8b0:4023:c0d::cf, ...\n",
            "Connecting to storage.googleapis.com (storage.googleapis.com)|142.251.2.207|:443... connected.\n",
            "HTTP request sent, awaiting response... 200 OK\n",
            "Length: 68606236 (65M) [application/zip]\n",
            "Saving to: ‘cats_and_dogs_filtered.zip.13’\n",
            "\n",
            "cats_and_dogs_filte 100%[===================>]  65.43M   197MB/s    in 0.3s    \n",
            "\n",
            "2024-02-27 05:09:30 (197 MB/s) - ‘cats_and_dogs_filtered.zip.13’ saved [68606236/68606236]\n",
            "\n"
          ]
        }
      ]
    },
    {
      "cell_type": "code",
      "source": [
        "import zipfile\n",
        "\n",
        "zip_file = \"cats_and_dogs_filtered.zip\"\n",
        "destination = \"./\"\n",
        "\n",
        "# Extract the zip file\n",
        "with zipfile.ZipFile(zip_file, 'r') as zip_ref:\n",
        "    zip_ref.extractall(destination)\n",
        "\n",
        "print(\"Extraction completed.\")"
      ],
      "metadata": {
        "colab": {
          "base_uri": "https://localhost:8080/"
        },
        "id": "1y9qnaSz7TPQ",
        "outputId": "39718548-67ee-4017-9813-42881effb4e1"
      },
      "execution_count": null,
      "outputs": [
        {
          "output_type": "stream",
          "name": "stdout",
          "text": [
            "Extraction completed.\n"
          ]
        }
      ]
    },
    {
      "cell_type": "code",
      "source": [
        "import torch\n",
        "from torch import nn\n",
        "import torchvision\n",
        "from torchvision import transforms, datasets\n",
        "from torch.utils.data import DataLoader\n",
        "from torchvision.datasets import ImageFolder\n",
        "from PIL import Image\n",
        "import matplotlib.pyplot as plt\n",
        "import glob\n",
        "\n",
        "\n",
        "class CNN(nn.Module):\n",
        "    def __init__(self):\n",
        "        super().__init__()\n",
        "        self.conv1 = nn.Conv2d(in_channels=3, out_channels=32, kernel_size=3, padding=1)\n",
        "        self.conv2 = nn.Conv2d(in_channels=32, out_channels=64, kernel_size=3, padding=1)\n",
        "        self.conv3 = nn.Conv2d(in_channels=64, out_channels=128, kernel_size=3, padding=1)\n",
        "        self.fc1 = nn.Linear(128 * 28 * 28, 512)\n",
        "        self.fc2 = nn.Linear(512, 2)\n",
        "\n",
        "    def forward(self, x):\n",
        "        x = torch.relu(self.conv1(x))\n",
        "        x = torch.max_pool2d(x, kernel_size=2, stride=2)\n",
        "        x = torch.relu(self.conv2(x))\n",
        "        x = torch.max_pool2d(x, kernel_size=2, stride=2)\n",
        "        x = torch.relu(self.conv3(x))\n",
        "        x = torch.max_pool2d(x, kernel_size=2, stride=2)\n",
        "        x = x.view(x.size(0), -1)\n",
        "        x = torch.relu(self.fc1(x))\n",
        "        x = self.fc2(x)\n",
        "        return x\n",
        "\n",
        "\n",
        "transform = transforms.Compose([\n",
        "    transforms.Resize((224, 224)),\n",
        "    transforms.ToTensor()\n",
        "])\n",
        "\n",
        "\n",
        "train_data = ImageFolder(root=\"/content/cats_and_dogs_filtered/train\", transform=transform)\n",
        "test_data = ImageFolder(root=\"/content/cats_and_dogs_filtered/validation\", transform=transform)\n",
        "\n",
        "\n",
        "train_loader = DataLoader(dataset=train_data, batch_size=32, shuffle=True)\n",
        "test_loader = DataLoader(dataset=test_data, batch_size=32)\n",
        "\n",
        "model = CNN()\n",
        "device = torch.device(\"cuda\" if torch.cuda.is_available() else \"cpu\")\n",
        "model.to(device)\n",
        "loss_fn = nn.CrossEntropyLoss()\n",
        "optimizer = torch.optim.Adam(params=model.parameters(), lr=0.01)\n",
        "\n",
        "\n",
        "def train_step(model, data_loader, loss_fn, optimizer, device):\n",
        "    model.train()\n",
        "    train_loss = 0\n",
        "    for X, y in data_loader:\n",
        "        X, y = X.to(device), y.to(device)\n",
        "        optimizer.zero_grad()\n",
        "        y_pred = model(X)\n",
        "        loss = loss_fn(y_pred, y)\n",
        "\n",
        "        l2_reg = sum(torch.norm(param)**2 for param in model.parameters())\n",
        "        loss += l2_reg * 0.01\n",
        "        train_loss += loss.item()\n",
        "        loss.backward()\n",
        "        optimizer.step()\n",
        "    train_loss /= len(data_loader)\n",
        "    return train_loss\n",
        "\n",
        "\n",
        "def test_step(model, data_loader, loss_fn, device):\n",
        "    model.eval()\n",
        "    test_loss = 0\n",
        "    correct = 0\n",
        "    total = 0\n",
        "    with torch.no_grad():\n",
        "        for X, y in data_loader:\n",
        "            X, y = X.to(device), y.to(device)\n",
        "            y_pred = model(X)\n",
        "            loss = loss_fn(y_pred, y)\n",
        "            test_loss += loss.item()\n",
        "            _, predicted = torch.max(y_pred, 1)\n",
        "            total += y.size(0)\n",
        "            correct += (predicted == y).sum().item()\n",
        "    test_loss /= len(data_loader)\n",
        "    accuracy = correct / total\n",
        "    return test_loss, accuracy\n",
        "\n",
        "\n",
        "num_epochs = 10\n",
        "for epoch in range(num_epochs):\n",
        "    print(f\"Epoch {epoch + 1}/{num_epochs}:\")\n",
        "    train_loss = train_step(model, train_loader, loss_fn, optimizer, device)\n",
        "    print(f\"Train Loss: {train_loss:.4f}\")\n",
        "    test_loss, accuracy = test_step(model, test_loader, loss_fn, device)\n",
        "    print(f\"Test Loss: {test_loss:.4f}, Accuracy: {accuracy:.4f}\")\n"
      ],
      "metadata": {
        "colab": {
          "base_uri": "https://localhost:8080/"
        },
        "id": "ZPzAK6BlKb-5",
        "outputId": "0af7091a-d5a1-4e66-8956-ad5ce3281694"
      },
      "execution_count": null,
      "outputs": [
        {
          "output_type": "stream",
          "name": "stdout",
          "text": [
            "Epoch 1/10:\n",
            "Train Loss: 8.0113\n",
            "Test Loss: 0.6932, Accuracy: 0.4830\n",
            "Epoch 2/10:\n",
            "Train Loss: 1.1220\n",
            "Test Loss: 0.6929, Accuracy: 0.5000\n",
            "Epoch 3/10:\n",
            "Train Loss: 0.9304\n",
            "Test Loss: 0.6930, Accuracy: 0.5000\n",
            "Epoch 4/10:\n",
            "Train Loss: 0.8352\n",
            "Test Loss: 0.6950, Accuracy: 0.5000\n",
            "Epoch 5/10:\n",
            "Train Loss: 0.8786\n",
            "Test Loss: 0.6952, Accuracy: 0.5000\n",
            "Epoch 6/10:\n",
            "Train Loss: 0.8196\n",
            "Test Loss: 0.6929, Accuracy: 0.5000\n",
            "Epoch 7/10:\n",
            "Train Loss: 0.7457\n",
            "Test Loss: 0.6934, Accuracy: 0.5000\n",
            "Epoch 8/10:\n",
            "Train Loss: 0.7282\n",
            "Test Loss: 0.6929, Accuracy: 0.5000\n",
            "Epoch 9/10:\n",
            "Train Loss: 0.7182\n",
            "Test Loss: 0.6945, Accuracy: 0.5000\n",
            "Epoch 10/10:\n",
            "Train Loss: 0.7121\n",
            "Test Loss: 0.6948, Accuracy: 0.5000\n"
          ]
        }
      ]
    },
    {
      "cell_type": "markdown",
      "source": [
        "2. Implement L1 regularization on cat-dog classification neural network. Train the model on the\n",
        "dataset, and observe the impact of the regularization on the weight parameters. (Do not use\n",
        "data augmentation).\n",
        "a. L1 regularization using optimizer’s weight decay\n",
        "b. L1regularization using loop to find L1 norm of weight"
      ],
      "metadata": {
        "id": "M0lvlSsNLH3K"
      }
    },
    {
      "cell_type": "code",
      "source": [
        "import torch\n",
        "from torch import nn\n",
        "import torchvision\n",
        "from torchvision import transforms, datasets\n",
        "from torch.utils.data import DataLoader\n",
        "from torchvision.datasets import ImageFolder\n",
        "from PIL import Image\n",
        "import matplotlib.pyplot as plt\n",
        "import glob\n",
        "\n",
        "class CNN(nn.Module):\n",
        "    def __init__(self):\n",
        "        super().__init__()\n",
        "        self.conv1 = nn.Conv2d(in_channels=3, out_channels=32, kernel_size=3, padding=1)\n",
        "        self.conv2 = nn.Conv2d(in_channels=32, out_channels=64, kernel_size=3, padding=1)\n",
        "        self.conv3 = nn.Conv2d(in_channels=64, out_channels=128, kernel_size=3, padding=1)\n",
        "        self.fc1 = nn.Linear(128 * 28 * 28, 512)\n",
        "        self.fc2 = nn.Linear(512, 2)\n",
        "\n",
        "    def forward(self, x):\n",
        "        x = torch.relu(self.conv1(x))\n",
        "        x = torch.max_pool2d(x, kernel_size=2, stride=2)\n",
        "        x = torch.relu(self.conv2(x))\n",
        "        x = torch.max_pool2d(x, kernel_size=2, stride=2)\n",
        "        x = torch.relu(self.conv3(x))\n",
        "        x = torch.max_pool2d(x, kernel_size=2, stride=2)\n",
        "        x = x.view(x.size(0), -1)\n",
        "        x = torch.relu(self.fc1(x))\n",
        "        x = self.fc2(x)\n",
        "        return x\n",
        "\n",
        "transform = transforms.Compose([\n",
        "    transforms.Resize((224, 224)),\n",
        "    transforms.ToTensor()\n",
        "])\n",
        "\n",
        "\n",
        "train_data = ImageFolder(root=\"/content/cats_and_dogs_filtered/train\", transform=transform)\n",
        "test_data = ImageFolder(root=\"/content/cats_and_dogs_filtered/validation\", transform=transform)\n",
        "\n",
        "\n",
        "train_loader = DataLoader(dataset=train_data, batch_size=32, shuffle=True)\n",
        "test_loader = DataLoader(dataset=test_data, batch_size=32)\n",
        "\n",
        "model = CNN()\n",
        "device = torch.device(\"cuda\" if torch.cuda.is_available() else \"cpu\")\n",
        "model.to(device)\n",
        "loss_fn = nn.CrossEntropyLoss()\n",
        "optimizer = torch.optim.Adam(params=model.parameters(), lr=0.01)\n",
        "\n",
        "def train_step_l1(model, data_loader, loss_fn, optimizer, device, l1_lambda=0.01):\n",
        "    model.train()\n",
        "    train_loss = 0\n",
        "    for X, y in data_loader:\n",
        "        X, y = X.to(device), y.to(device)\n",
        "        optimizer.zero_grad()\n",
        "        y_pred = model(X)\n",
        "        loss = loss_fn(y_pred, y)\n",
        "        l1_reg = sum(torch.norm(param, p=1) for param in model.parameters())\n",
        "        loss += l1_reg * l1_lambda\n",
        "        train_loss += loss.item()\n",
        "        loss.backward()\n",
        "        optimizer.step()\n",
        "    train_loss /= len(data_loader)\n",
        "    return train_loss\n",
        "\n",
        "def test_step(model, data_loader, loss_fn, device):\n",
        "    model.eval()\n",
        "    test_loss = 0\n",
        "    correct = 0\n",
        "    total = 0\n",
        "    with torch.no_grad():\n",
        "        for X, y in data_loader:\n",
        "            X, y = X.to(device), y.to(device)\n",
        "            y_pred = model(X)\n",
        "            loss = loss_fn(y_pred, y)\n",
        "            test_loss += loss.item()\n",
        "            _, predicted = torch.max(y_pred, 1)\n",
        "            total += y.size(0)\n",
        "            correct += (predicted == y).sum().item()\n",
        "    test_loss /= len(data_loader)\n",
        "    accuracy = correct / total\n",
        "    return test_loss, accuracy\n",
        "\n",
        "num_epochs = 10\n",
        "for epoch in range(num_epochs):\n",
        "    print(f\"Epoch {epoch + 1}/{num_epochs}:\")\n",
        "    train_loss = train_step_l1(model, train_loader, loss_fn, optimizer, device)\n",
        "    print(f\"Train Loss: {train_loss:.4f}\")\n",
        "    test_loss, accuracy = test_step(model, test_loader, loss_fn, device)\n",
        "    print(f\"Test Loss: {test_loss:.4f}, Accuracy: {accuracy:.4f}\")\n"
      ],
      "metadata": {
        "colab": {
          "base_uri": "https://localhost:8080/"
        },
        "id": "Mh1DLKbnLLEY",
        "outputId": "53c77045-06c5-410c-9c9b-2ee2ddfabd14"
      },
      "execution_count": null,
      "outputs": [
        {
          "output_type": "stream",
          "name": "stdout",
          "text": [
            "Epoch 1/10:\n",
            "Train Loss: 899.8121\n",
            "Test Loss: 0.6933, Accuracy: 0.5000\n",
            "Epoch 2/10:\n",
            "Train Loss: 558.9863\n",
            "Test Loss: 0.6931, Accuracy: 0.5000\n",
            "Epoch 3/10:\n",
            "Train Loss: 565.3466\n",
            "Test Loss: 0.6929, Accuracy: 0.5000\n",
            "Epoch 4/10:\n",
            "Train Loss: 562.5291\n",
            "Test Loss: 0.6930, Accuracy: 0.5000\n",
            "Epoch 5/10:\n",
            "Train Loss: 569.4126\n",
            "Test Loss: 0.6937, Accuracy: 0.5000\n",
            "Epoch 6/10:\n",
            "Train Loss: 559.8655\n",
            "Test Loss: 0.6933, Accuracy: 0.5000\n",
            "Epoch 7/10:\n",
            "Train Loss: 564.0906\n",
            "Test Loss: 0.6942, Accuracy: 0.5000\n",
            "Epoch 8/10:\n",
            "Train Loss: 559.2199\n",
            "Test Loss: 0.6933, Accuracy: 0.5000\n",
            "Epoch 9/10:\n",
            "Train Loss: 566.7519\n",
            "Test Loss: 0.6933, Accuracy: 0.5000\n",
            "Epoch 10/10:\n",
            "Train Loss: 559.5326\n",
            "Test Loss: 0.6929, Accuracy: 0.5000\n"
          ]
        }
      ]
    },
    {
      "cell_type": "markdown",
      "source": [
        "3. Implement dropout regularization on cat-dog classification neural network. Train the model\n",
        "with and without dropout on a dataset, and compare the performance and overfitting\n",
        "tendencies"
      ],
      "metadata": {
        "id": "SopM52aTLo3f"
      }
    },
    {
      "cell_type": "code",
      "source": [
        "import torch\n",
        "from torch import nn\n",
        "import torchvision\n",
        "from torchvision import transforms, datasets\n",
        "from torch.utils.data import DataLoader\n",
        "from torchvision.datasets import ImageFolder\n",
        "from PIL import Image\n",
        "import matplotlib.pyplot as plt\n",
        "\n",
        "class CNNWithDropout(nn.Module):\n",
        "    def __init__(self):\n",
        "        super().__init__()\n",
        "        self.conv1 = nn.Conv2d(in_channels=3, out_channels=32, kernel_size=3, padding=1)\n",
        "        self.conv2 = nn.Conv2d(in_channels=32, out_channels=64, kernel_size=3, padding=1)\n",
        "        self.conv3 = nn.Conv2d(in_channels=64, out_channels=128, kernel_size=3, padding=1)\n",
        "        self.fc1 = nn.Linear(128 * 28 * 28, 512)\n",
        "        self.fc2 = nn.Linear(512, 2)\n",
        "        self.dropout = nn.Dropout(p=0.25)\n",
        "\n",
        "    def forward(self, x):\n",
        "        x = torch.relu(self.conv1(x))\n",
        "        x = torch.max_pool2d(x, kernel_size=2, stride=2)\n",
        "        x = torch.relu(self.conv2(x))\n",
        "        x = torch.max_pool2d(x, kernel_size=2, stride=2)\n",
        "        x = torch.relu(self.conv3(x))\n",
        "        x = torch.max_pool2d(x, kernel_size=2, stride=2)\n",
        "        x = x.view(x.size(0), -1)\n",
        "        x = torch.relu(self.fc1(x))\n",
        "        x = self.dropout(x)\n",
        "        x = self.fc2(x)\n",
        "        return x\n",
        "\n",
        "transform = transforms.Compose([\n",
        "    transforms.Resize((224, 224)),\n",
        "    transforms.ToTensor()\n",
        "])\n",
        "\n",
        "train_data = ImageFolder(root=\"/content/cats_and_dogs_filtered/train\", transform=transform)\n",
        "test_data = ImageFolder(root=\"/content/cats_and_dogs_filtered/validation\", transform=transform)\n",
        "\n",
        "train_loader = DataLoader(dataset=train_data, batch_size=32, shuffle=True)\n",
        "test_loader = DataLoader(dataset=test_data, batch_size=32)\n",
        "\n",
        "def train_model(model, train_loader, test_loader, criterion, optimizer, num_epochs=10):\n",
        "    train_losses = []\n",
        "    test_losses = []\n",
        "    device = torch.device(\"cuda\" if torch.cuda.is_available() else \"cpu\")\n",
        "    model.to(device)\n",
        "    for epoch in range(num_epochs):\n",
        "        model.train()\n",
        "        running_loss = 0.0\n",
        "        for images, labels in train_loader:\n",
        "            images, labels = images.to(device), labels.to(device)\n",
        "            optimizer.zero_grad()\n",
        "            outputs = model(images)\n",
        "            loss = criterion(outputs, labels)\n",
        "            loss.backward()\n",
        "            optimizer.step()\n",
        "            running_loss += loss.item()\n",
        "        train_loss = running_loss / len(train_loader)\n",
        "        train_losses.append(train_loss)\n",
        "\n",
        "        model.eval()\n",
        "        test_loss = 0.0\n",
        "        accuracy = 0\n",
        "        with torch.no_grad():\n",
        "            for images, labels in test_loader:\n",
        "                images, labels = images.to(device), labels.to(device)\n",
        "                outputs = model(images)\n",
        "                loss = criterion(outputs, labels)\n",
        "                test_loss += loss.item()\n",
        "                _, predicted = torch.max(outputs, 1)\n",
        "                accuracy += (predicted == labels).sum().item()\n",
        "        test_loss = test_loss / len(test_loader)\n",
        "        test_losses.append(test_loss)\n",
        "\n",
        "        print(f\"Epoch {epoch+1}/{num_epochs}, Train Loss: {train_loss:.4f}, Test Loss: {test_loss:.4f}, Test Accuracy: {accuracy/len(test_data):.4f}\")\n",
        "\n",
        "    return train_losses, test_losses\n",
        "\n",
        "model_with_dropout = CNNWithDropout()\n",
        "criterion = nn.CrossEntropyLoss()\n",
        "optimizer_with_dropout = torch.optim.Adam(model_with_dropout.parameters(), lr=0.0001)\n",
        "\n",
        "train_losses_with_dropout, test_losses_with_dropout = train_model(model_with_dropout, train_loader, test_loader, criterion, optimizer_with_dropout)\n",
        "\n",
        "plt.figure(figsize=(10, 5))\n",
        "plt.plot(train_losses_with_dropout, label='Train Loss (With Dropout)')\n",
        "plt.plot(test_losses_with_dropout, label='Test Loss (With Dropout)')\n",
        "plt.xlabel('Epoch')\n",
        "plt.ylabel('Loss')\n",
        "plt.title('Training and Test Losses with Dropout')\n",
        "plt.legend()\n",
        "plt.show()\n"
      ],
      "metadata": {
        "colab": {
          "base_uri": "https://localhost:8080/",
          "height": 661
        },
        "id": "bYKkfQiWLtCh",
        "outputId": "5bb1fd74-9efd-420c-fa7b-4985332b3d67"
      },
      "execution_count": null,
      "outputs": [
        {
          "output_type": "stream",
          "name": "stdout",
          "text": [
            "Epoch 1/10, Train Loss: 0.6903, Test Loss: 0.7240, Test Accuracy: 0.5000\n",
            "Epoch 2/10, Train Loss: 0.6673, Test Loss: 0.6541, Test Accuracy: 0.6380\n",
            "Epoch 3/10, Train Loss: 0.6156, Test Loss: 0.6284, Test Accuracy: 0.6420\n",
            "Epoch 4/10, Train Loss: 0.5688, Test Loss: 0.5998, Test Accuracy: 0.6920\n",
            "Epoch 5/10, Train Loss: 0.5308, Test Loss: 0.5928, Test Accuracy: 0.6930\n",
            "Epoch 6/10, Train Loss: 0.5196, Test Loss: 0.6010, Test Accuracy: 0.6890\n",
            "Epoch 7/10, Train Loss: 0.4807, Test Loss: 0.6724, Test Accuracy: 0.6230\n",
            "Epoch 8/10, Train Loss: 0.4526, Test Loss: 0.5880, Test Accuracy: 0.7070\n",
            "Epoch 9/10, Train Loss: 0.4164, Test Loss: 0.6447, Test Accuracy: 0.6940\n",
            "Epoch 10/10, Train Loss: 0.3792, Test Loss: 0.5863, Test Accuracy: 0.7000\n"
          ]
        },
        {
          "output_type": "display_data",
          "data": {
            "text/plain": [
              "<Figure size 1000x500 with 1 Axes>"
            ],
            "image/png": "[encoded data removed]"
          },
          "metadata": {}
        }
      ]
    },
    {
      "cell_type": "markdown",
      "source": [
        "4. Implement your own version of the dropout layer by using Bernoulli distribution and compare\n",
        "the performance with the library."
      ],
      "metadata": {
        "id": "ANPbNxLBM18X"
      }
    },
    {
      "cell_type": "code",
      "source": [
        "import torch\n",
        "import torch.nn as nn\n",
        "\n",
        "class CustomDropout(nn.Module):\n",
        "    def __init__(self, p=0.5):\n",
        "        super(CustomDropout, self).__init__()\n",
        "        self.p = p\n",
        "\n",
        "    def forward(self, x):\n",
        "        if self.training:\n",
        "            mask = torch.bernoulli(torch.full_like(x, 1 - self.p))\n",
        "            output = x * mask / (1 - self.p)\n",
        "        else:\n",
        "            output = x * (1 - self.p)\n",
        "        return output\n",
        "\n",
        "dropout_layer = CustomDropout(p=0.5)\n",
        "x = torch.randn(2, 3, 4, 4)\n",
        "output = dropout_layer(x)\n",
        "print(output)"
      ],
      "metadata": {
        "colab": {
          "base_uri": "https://localhost:8080/"
        },
        "id": "sa3bkyLbNmOo",
        "outputId": "3d3585e7-5d63-40d5-a509-5410ae8f1f1c"
      },
      "execution_count": null,
      "outputs": [
        {
          "output_type": "stream",
          "name": "stdout",
          "text": [
            "tensor([[[[-0.2872, -1.1377, -1.1612,  1.9613],\n",
            "          [ 0.0000,  0.0000, -0.0000,  0.0000],\n",
            "          [-2.3189, -3.8154, -2.5836,  0.0000],\n",
            "          [ 0.0000,  1.8471, -0.0000,  0.0000]],\n",
            "\n",
            "         [[-2.5287, -1.4592, -0.0000, -0.0000],\n",
            "          [ 0.0000,  3.2851, -0.0000,  1.0238],\n",
            "          [ 0.0000,  1.0264,  0.0000,  0.0000],\n",
            "          [-0.0000,  1.1687, -0.0000,  0.3242]],\n",
            "\n",
            "         [[-1.8436,  2.5136,  4.2399, -0.1367],\n",
            "          [ 0.0000,  0.0000,  2.7849, -1.6609],\n",
            "          [ 0.0000, -1.8791,  0.0000, -0.0000],\n",
            "          [-0.0000, -0.0000, -4.3590,  0.4563]]],\n",
            "\n",
            "\n",
            "        [[[-2.1139, -0.0000, -1.3761, -0.0000],\n",
            "          [ 2.4361, -0.0000, -1.0406, -0.6582],\n",
            "          [ 0.8037, -1.3843,  3.5924,  1.3581],\n",
            "          [ 0.0000,  1.2636, -0.0000, -0.5952]],\n",
            "\n",
            "         [[-0.0000, -5.0501, -0.5412, -0.0000],\n",
            "          [ 0.1537,  0.0000,  1.1319,  0.0000],\n",
            "          [ 0.0000,  3.0158,  1.8334,  0.0000],\n",
            "          [ 2.3621,  0.0000, -1.2164,  5.3314]],\n",
            "\n",
            "         [[ 1.9103, -0.0728, -0.0000, -0.6635],\n",
            "          [-0.0000,  0.0000, -0.3149, -0.0000],\n",
            "          [ 0.0000,  1.8305, -0.0000,  0.1899],\n",
            "          [ 0.0801, -0.6542,  1.0452,  0.0000]]]])\n"
          ]
        }
      ]
    }
  ]
}