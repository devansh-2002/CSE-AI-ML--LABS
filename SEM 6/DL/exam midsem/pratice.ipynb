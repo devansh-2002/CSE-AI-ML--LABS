{
 "cells": [
  {
   "cell_type": "code",
   "execution_count": 3,
   "metadata": {},
   "outputs": [
    {
     "name": "stdout",
     "output_type": "stream",
     "text": [
      "tensor([[0.5039],\n",
      "        [0.6074],\n",
      "        [1.2262]])\n"
     ]
    }
   ],
   "source": [
    "import torch    \n",
    "\n",
    "a=torch.rand(3,3)\n",
    "b=torch.rand(1,3)\n",
    "b=b.transpose(0,1)\n",
    "c=torch.mm(a,b)\n",
    "print(c)"
   ]
  },
  {
   "cell_type": "code",
   "execution_count": 12,
   "metadata": {},
   "outputs": [
    {
     "name": "stdout",
     "output_type": "stream",
     "text": [
      "mps\n"
     ]
    }
   ],
   "source": [
    "has_mps = torch.backends.mps.is_built()\n",
    "device = \"mps\" if has_mps else \"cuda\" if torch.cuda.is_available() else \"cpu\"\n",
    "print(device)\n"
   ]
  },
  {
   "cell_type": "code",
   "execution_count": 17,
   "metadata": {},
   "outputs": [
    {
     "name": "stdout",
     "output_type": "stream",
     "text": [
      "34.0\n",
      "34.0\n"
     ]
    }
   ],
   "source": [
    "a= torch.tensor((1.0),requires_grad=True)\n",
    "b= torch.tensor((2.0),requires_grad=True)\n",
    "\n",
    "x=2*a + 3*b\n",
    "y = 5*a*a + 3*b*b*b\n",
    "z = 2*x + 3*y\n",
    "z.backward()\n",
    "agrad= 4+30*a.data.item()\n",
    "pgrad=a.grad.item()\n",
    "print(agrad)\n",
    "print(pgrad)"
   ]
  },
  {
   "cell_type": "code",
   "execution_count": 21,
   "metadata": {},
   "outputs": [
    {
     "name": "stdout",
     "output_type": "stream",
     "text": [
      "3.0\n"
     ]
    }
   ],
   "source": [
    "b=torch.tensor((1.0),requires_grad=True)\n",
    "w=torch.tensor((2.0),requires_grad=True)\n",
    "x=torch.tensor((3.0),requires_grad=True)\n",
    "\n",
    "u=w*x\n",
    "v=u+b\n",
    "a=torch.relu(v)\n",
    "a.backward()\n",
    "\n",
    "pgrad=w.grad.item()\n",
    "print(pgrad)"
   ]
  },
  {
   "cell_type": "code",
   "execution_count": 23,
   "metadata": {},
   "outputs": [
    {
     "name": "stdout",
     "output_type": "stream",
     "text": [
      "0.0027305022813379765\n"
     ]
    }
   ],
   "source": [
    "b=torch.tensor((1.0),requires_grad=True)\n",
    "w=torch.tensor((2.0),requires_grad=True)\n",
    "x=torch.tensor((3.0),requires_grad=True)\n",
    "\n",
    "u=w*x\n",
    "v=u+b\n",
    "a=torch.sigmoid(v)\n",
    "a.backward()\n",
    "pgrad=w.grad.item()\n",
    "print(pgrad)"
   ]
  },
  {
   "cell_type": "markdown",
   "metadata": {},
   "source": [
    "### week3"
   ]
  },
  {
   "cell_type": "code",
   "execution_count": 24,
   "metadata": {},
   "outputs": [
    {
     "name": "stdout",
     "output_type": "stream",
     "text": [
      "w: 0.8200302720069885 b:  0.9878906011581421\n"
     ]
    },
    {
     "data": {
      "image/png": "[encoded data removed]",
      "text/plain": [
       "<Figure size 640x480 with 1 Axes>"
      ]
     },
     "metadata": {},
     "output_type": "display_data"
    }
   ],
   "source": [
    "import matplotlib.pyplot as plt\n",
    "\n",
    "x = torch.tensor( [12.4, 14.3, 14.5, 14.9, 16.1, 16.9, 16.5, 15.4, 17.0, 17.9, 18.8, 20.3, 22.4,\n",
    "19.4, 15.5, 16.7, 17.3, 18.4, 19.2, 17.4, 19.5, 19.7, 21.2])\n",
    "y = torch.tensor( [11.2, 12.5, 12.7, 13.1, 14.1, 14.8, 14.4, 13.4, 14.9, 15.6, 16.4, 17.7, 19.6,\n",
    "16.9, 14.0, 14.6, 15.1, 16.1, 16.8, 15.2, 17.0, 17.2, 18.6])\n",
    "\n",
    "w=torch.tensor(1.0,requires_grad=True)\n",
    "b=torch.tensor(1.0,requires_grad=True)\n",
    "lr=torch.tensor(0.001)\n",
    "epochs=100\n",
    "losses=[]\n",
    "for epoch in range(epochs):\n",
    "    y_pred=w*x + b\n",
    "    loss=torch.mean((y_pred-y)**2)\n",
    "    loss.backward()\n",
    "\n",
    "    with torch.no_grad():\n",
    "        w-=lr*w.grad\n",
    "        b-=lr*b.grad\n",
    "    w.grad.zero_()\n",
    "    b.grad.zero_()\n",
    "    \n",
    "    losses.append(loss.item())\n",
    "print(\"w:\",w.item(), \"b: \", b.item())\n",
    "plt.plot(range(epochs),losses)\n",
    "plt.xlabel('Epoch')\n",
    "plt.ylabel('loss')\n",
    "plt.show()"
   ]
  },
  {
   "cell_type": "code",
   "execution_count": 27,
   "metadata": {},
   "outputs": [
    {
     "name": "stdout",
     "output_type": "stream",
     "text": [
      "tensor(-170.2080, grad_fn=<MeanBackward0>)\n",
      "tensor(-50.8520, grad_fn=<MeanBackward0>)\n",
      "updated\n",
      "1.344208002090454\n",
      "1.1028521060943604\n"
     ]
    }
   ],
   "source": [
    "x=torch.tensor([2,4],dtype=torch.float32)\n",
    "y=torch.tensor([20,40],dtype=torch.float32)\n",
    "w=torch.tensor(1.0,requires_grad=True)\n",
    "b=torch.tensor(1.0,requires_grad=True)\n",
    "lr=0.001\n",
    "n=len(x)\n",
    "for epoch in range(2):\n",
    "    y_pred=w*x+b\n",
    "    loss=torch.mean((y_pred-y)**2)\n",
    "    loss.backward()\n",
    "    wgan=torch.mean(2*x*(y_pred-y))\n",
    "    bgan=torch.mean(2*(y_pred-y))\n",
    "    with torch.no_grad():\n",
    "        w-=lr*wgan\n",
    "        b-=lr*bgan\n",
    "    w.grad.zero_()\n",
    "    b.grad.zero_()\n",
    "print(wgan)\n",
    "print(bgan)\n",
    "print(\"updated\")\n",
    "print(w.item())\n",
    "print(b.item())\n",
    "    \n"
   ]
  },
  {
   "cell_type": "code",
   "execution_count": 29,
   "metadata": {},
   "outputs": [
    {
     "name": "stdout",
     "output_type": "stream",
     "text": [
      "after100 epoches, parameters of w=tensor([1.0239], requires_grad=True) and b=tensor([0.3780], requires_grad=True) and loss=326.09417724609375\n",
      "after100 epoches, parameters of w=tensor([1.2807], requires_grad=True) and b=tensor([0.4003], requires_grad=True) and loss=319.43603515625\n",
      "after100 epoches, parameters of w=tensor([1.5330], requires_grad=True) and b=tensor([0.4223], requires_grad=True) and loss=313.0028991699219\n",
      "after100 epoches, parameters of w=tensor([1.7796], requires_grad=True) and b=tensor([0.4443], requires_grad=True) and loss=306.84722900390625\n",
      "after100 epoches, parameters of w=tensor([2.0192], requires_grad=True) and b=tensor([0.4659], requires_grad=True) and loss=301.03033447265625\n",
      "after100 epoches, parameters of w=tensor([2.2503], requires_grad=True) and b=tensor([0.4871], requires_grad=True) and loss=295.61480712890625\n",
      "after100 epoches, parameters of w=tensor([2.4713], requires_grad=True) and b=tensor([0.5079], requires_grad=True) and loss=290.6499938964844\n",
      "after100 epoches, parameters of w=tensor([2.6815], requires_grad=True) and b=tensor([0.5280], requires_grad=True) and loss=286.15570068359375\n",
      "after100 epoches, parameters of w=tensor([2.8808], requires_grad=True) and b=tensor([0.5474], requires_grad=True) and loss=282.1142578125\n",
      "after100 epoches, parameters of w=tensor([3.0698], requires_grad=True) and b=tensor([0.5662], requires_grad=True) and loss=278.4776306152344\n"
     ]
    },
    {
     "data": {
      "image/png": "[encoded data removed]",
      "text/plain": [
       "<Figure size 640x480 with 1 Axes>"
      ]
     },
     "metadata": {},
     "output_type": "display_data"
    }
   ],
   "source": [
    "x = torch.tensor([5.0, 7.0, 12.0, 16.0, 20.0])\n",
    "y = torch.tensor([40.0, 120.0, 180.0, 210.0, 240.0])\n",
    "learning_rate = torch.tensor(0.001)\n",
    "\n",
    "class rml:\n",
    "    def __init__(self):\n",
    "        self.w=torch.rand([1],requires_grad=True)\n",
    "        self.b=torch.rand([1],requires_grad=True)\n",
    "    def forward(self,x):\n",
    "        return self.w*x+self.b\n",
    "    def update(self):\n",
    "        self.w-=lr*self.w.grad\n",
    "        self.b-=lr*self.b.grad\n",
    "    def reset(self):\n",
    "        self.w.grad.zero_()\n",
    "        self.b.grad.zero_()\n",
    "def criterion(yj,y_p):\n",
    "    return (yj-y_p)**2\n",
    "\n",
    "model=rml()\n",
    "losses=[]\n",
    "\n",
    "for epoch in range(100):\n",
    "    loss=0\n",
    "    for j in range(len(x)):\n",
    "        y_p=model.forward(x)\n",
    "        loss+=torch.norm(y[j]-y_p)\n",
    "    loss=loss/len(x)\n",
    "    losses.append(loss.item())\n",
    "    loss.backward()\n",
    "\n",
    "    with torch.no_grad():\n",
    "        model.update()\n",
    "        model.reset()\n",
    "        if epoch%10==0:\n",
    "            print(\"after{} epoches, parameters of w={} and b={} and loss={}\".format(epochs,model.w,model.b,loss.item()))\n",
    "            plt.plot(losses)"
   ]
  },
  {
   "cell_type": "code",
   "execution_count": 34,
   "metadata": {},
   "outputs": [
    {
     "data": {
      "image/png": "[encoded data removed]",
      "text/plain": [
       "<Figure size 640x480 with 1 Axes>"
      ]
     },
     "metadata": {},
     "output_type": "display_data"
    }
   ],
   "source": [
    "import torch.nn as nn\n",
    "import torch.optim as optim\n",
    "x = torch.tensor([12.4, 14.3, 14.5, 14.9, 16.1, 16.9, 16.5, 15.4, 17.0, 17.9, 18.8, 20.3, 22.4, 19.4, 15.5, 17.3, 18.4, 19.2, 17.4, 19.5, 19.7, 21.2], dtype=torch.float32).view(-1, 1)\n",
    "y = torch.tensor([11.2, 12.5, 12.7, 13.1, 14.1, 14.8, 14.4, 13.4, 14.9, 15.6, 16.4, 17.7, 19.6, 16.9, 14.0, 15.1, 16.1, 16.8, 15.2, 17.0, 17.2, 18.6], dtype=torch.float32).view(-1, 1)\n",
    "\n",
    "class lml(nn.Module):\n",
    "    def __init__(self):\n",
    "        super(lml, self).__init__()\n",
    "        self.linear=nn.Linear(1,1)\n",
    "    \n",
    "    def forward(self,x):\n",
    "        return self.linear(x)\n",
    "\n",
    "model=lml()\n",
    "criterion=nn.MSELoss()\n",
    "optimiser=optim.SGD(model.parameters(),lr=0.01)\n",
    "\n",
    "for epoch in range(1000):\n",
    "    outputs=model(x)\n",
    "    loss=criterion(outputs,y)\n",
    "    optimiser.zero_grad()\n",
    "    loss.backward()\n",
    "    optimiser.step()\n",
    "plt.scatter(x.numpy(),y.numpy(), label='data points')\n",
    "plt.plot(x.numpy(),outputs.detach().numpy(),color='red',label='lr')\n",
    "plt.legend()\n",
    "plt.show()"
   ]
  },
  {
   "cell_type": "code",
   "execution_count": 50,
   "metadata": {},
   "outputs": [
    {
     "name": "stdout",
     "output_type": "stream",
     "text": [
      "Predicted value: 5.788327217102051\n"
     ]
    }
   ],
   "source": [
    "import torch.nn as nn\n",
    "import torch.optim as optim\n",
    "subject = [1, 2, 3, 4, 5]\n",
    "x1 = [3, 4, 5, 6, 2]\n",
    "x2 = [8, 5, 7, 3, 1]\n",
    "y = [-3.7, 3.5, 2.5, 11.5, 5.7]\n",
    "\n",
    "subject=torch.tensor(subject,dtype=torch.float32).view(-1,1)\n",
    "x1=torch.tensor(x1,dtype=torch.float32).view(-1,1)\n",
    "x2=torch.tensor(x2,dtype=torch.float32).view(-1,1)\n",
    "y=torch.tensor(y,dtype=torch.float32).view(-1,1)\n",
    "X=torch.cat((subject,x1,x2),1)\n",
    "\n",
    "class LinearRegressionModel(nn.Module):\n",
    "    def __init__(self):\n",
    "        super(LinearRegressionModel, self).__init__()\n",
    "        self.linear = nn.Linear(3, 1)\n",
    "\n",
    "    def forward(self, x):\n",
    "        return self.linear(x)\n",
    "\n",
    "# Instantiate the model, loss function, and optimizer\n",
    "model = LinearRegressionModel()\n",
    "criterion = nn.MSELoss()\n",
    "optimizer = optim.SGD(model.parameters(), lr=0.01)\n",
    "\n",
    "# Training the model\n",
    "num_epochs = 1000\n",
    "for epoch in range(num_epochs):\n",
    "    # Forward pass\n",
    "    outputs = model(X)\n",
    "    loss = criterion(outputs, y)\n",
    "\n",
    "    # Backward pass and optimization\n",
    "    optimizer.zero_grad()\n",
    "    loss.backward()\n",
    "    optimizer.step()\n",
    "\n",
    "# Verify the answer for the data point x1=3, x2=2\n",
    "test_data = torch.tensor([3, 3, 2], dtype=torch.float32).view(1, -1)\n",
    "predicted_value = model(test_data)\n",
    "print(\"Predicted value:\", predicted_value.item())"
   ]
  },
  {
   "cell_type": "code",
   "execution_count": 48,
   "metadata": {},
   "outputs": [
    {
     "data": {
      "image/png": "[encoded data removed]",
      "text/plain": [
       "<Figure size 640x480 with 1 Axes>"
      ]
     },
     "metadata": {},
     "output_type": "display_data"
    },
    {
     "name": "stdout",
     "output_type": "stream",
     "text": [
      "0.6291040182113647\n",
      "1\n"
     ]
    }
   ],
   "source": [
    "#q7\n",
    "x = torch.tensor([1, 5, 10, 10, 25, 50, 70, 75, 100], dtype=torch.float32).view(-1, 1)\n",
    "y = torch.tensor([0, 0, 0, 0, 0, 1, 1, 1, 1], dtype=torch.float32).view(-1, 1)\n",
    "\n",
    "# Logistic regression model\n",
    "class LogisticRegression(nn.Module):\n",
    "    def __init__(self):\n",
    "        super(LogisticRegression, self).__init__()\n",
    "        self.linear = nn.Linear(1, 1)\n",
    "\n",
    "    def forward(self, x):\n",
    "        return torch.sigmoid(self.linear(x))\n",
    "\n",
    "# Model, loss function, and optimizer\n",
    "model = LogisticRegression()\n",
    "criterion = nn.BCELoss()\n",
    "optimizer = optim.SGD(model.parameters(), lr=0.01)\n",
    "\n",
    "# Training loop\n",
    "epochs = 100\n",
    "losses = []\n",
    "\n",
    "for epoch in range(epochs):\n",
    "    # Forward pass\n",
    "    y_pred = model(x)\n",
    "\n",
    "    # Calculate loss\n",
    "    loss = criterion(y_pred, y)\n",
    "\n",
    "    # Backward pass and optimization\n",
    "    optimizer.zero_grad()\n",
    "    loss.backward()\n",
    "    optimizer.step()\n",
    "\n",
    "    # Save loss for plotting\n",
    "    losses.append(loss.item())\n",
    "\n",
    "# Plotting\n",
    "plt.plot(range(epochs), losses)\n",
    "plt.xlabel('Epoch')\n",
    "plt.ylabel('Loss')\n",
    "plt.title('Epoch vs. Loss')\n",
    "plt.show()\n",
    "\n",
    "with torch.no_grad():\n",
    "    test=torch.tensor([30],dtype=torch.float32).view(-1,1)\n",
    "    pred_prob=model(test).item()\n",
    "    pred_class=1 if pred_prob>0.5 else 0\n",
    "    print(pred_prob)\n",
    "    print(pred_class)"
   ]
  },
  {
   "cell_type": "markdown",
   "metadata": {},
   "source": [
    "### week4"
   ]
  },
  {
   "cell_type": "markdown",
   "metadata": {},
   "source": []
  },
  {
   "cell_type": "code",
   "execution_count": null,
   "metadata": {},
   "outputs": [],
   "source": []
  },
  {
   "cell_type": "code",
   "execution_count": 60,
   "metadata": {},
   "outputs": [
    {
     "name": "stdout",
     "output_type": "stream",
     "text": [
      "[1,   100] loss: 0.656\n",
      "[1,   200] loss: 0.611\n",
      "[2,   100] loss: 0.389\n",
      "[2,   200] loss: 0.234\n",
      "[3,   100] loss: 0.168\n",
      "[3,   200] loss: 0.148\n",
      "[4,   100] loss: 0.136\n",
      "[4,   200] loss: 0.046\n",
      "[5,   100] loss: 0.050\n",
      "[5,   200] loss: 0.058\n",
      "[6,   100] loss: 0.015\n",
      "[6,   200] loss: 0.061\n",
      "Finished Training. Final loss = 0.0015486555639654398, Total params = 6098\n",
      "Correct = 196, Total = 200\n"
     ]
    }
   ],
   "source": [
    "\n",
    "import torch\n",
    "import torch.nn as nn\n",
    "import torch.optim as optim\n",
    "import torchvision\n",
    "import torchvision.transforms as transform\n",
    "from torchvision.transforms import ToTensor\n",
    "import torchvision.datasets as datasets\n",
    "from torch.utils.data import Dataset,DataLoader\n",
    "\n",
    "def generateGaussian(tindx):\n",
    "    return torch.normal(tindx[0], tindx[1], (1,42,42)) \n",
    "\n",
    "class CNNClassifier(nn.Module):\n",
    "    def __init__(self):\n",
    "        super().__init__()\n",
    "        self.net = nn.Sequential(nn.Conv2d(1,16,kernel_size = 3, stride=2, padding = 2),\n",
    "                                 nn.ReLU(),\n",
    "                                 nn.MaxPool2d((2,2),stride=2),\n",
    "                                 nn.Conv2d(16,32,kernel_size = 3, stride=1, padding = 0),\n",
    "                                 nn.ReLU(),\n",
    "                                 nn.MaxPool2d((2,2),stride=2),\n",
    "                                 nn.Conv2d(32,4,kernel_size = 3, stride=2, padding = 2),\n",
    "                                 nn.ReLU(),\n",
    "                                 nn.MaxPool2d((2,2),stride=2),\n",
    "                                )\n",
    "        self.classification_head = nn.Sequential(nn.Linear(4,20,bias=True),\n",
    "                                                 nn.ReLU(),\n",
    "                                                 nn.Linear(20,2,bias=True),)\n",
    "        \n",
    "    def forward(self,x):\n",
    "        batch_size = x.size(0)  \n",
    "        features = self.net(x)\n",
    "        return self.classification_head(features.view(batch_size, -1))\n",
    "\n",
    "def generateGaussian(tindx):\n",
    "    return torch.normal(tindx[0], tindx[1], (1,42,42))\n",
    "\n",
    "class MyDataSet(Dataset):\n",
    "    def __init__ (self,n):\n",
    "        classes = {0: (0.5,2), 1:(1,2.5)}\n",
    "        self.Y = [torch.round(torch.rand(1))[0].long() for i in range(n)]\n",
    "        self.X = [generateGaussian(classes[self.Y[i].item()]) for i in range(n)]\n",
    "    def __len__(self):\n",
    "        return len(self.X)\n",
    "    \n",
    "    def __getitem__(self,idx):\n",
    "        return self.X[idx].to(device), self.Y[idx].to(device)\n",
    "\n",
    "test_data = MyDataSet(1000)\n",
    "train_loader = DataLoader(test_data,batch_size=4,shuffle=True)\n",
    "test_data = MyDataSet(200)\n",
    "test_loader = DataLoader(test_data,batch_size=4,shuffle=True)\n",
    "\n",
    "device = torch.device(\"cuda\" if torch.cuda.is_available() else \"cpu\")\n",
    "model = CNNClassifier().to(device)\n",
    "loss_fn = nn.CrossEntropyLoss()\n",
    "optimizer = optim.SGD(model.parameters(), lr=0.01)\n",
    "batch_size=50\n",
    "\n",
    "total_params = 0\n",
    "for name,param in model.named_parameters():\n",
    "    params = param.numel()\n",
    "    total_params += params\n",
    "\n",
    "for epoch in range(6):  \n",
    "    running_loss = 0.0\n",
    "    for i, data in enumerate(train_loader, 0):\n",
    "        inputs, labels = data[0].to(device), data[1].to(device)\n",
    "\n",
    "        optimizer.zero_grad()\n",
    "\n",
    "        outputs = model(inputs)\n",
    "        loss = loss_fn(outputs, labels)\n",
    "        loss.backward()\n",
    "        optimizer.step()\n",
    "\n",
    "        running_loss += loss.item()\n",
    "        if i % 100 == 99:  \n",
    "            print('[%d, %5d] loss: %.3f' %(epoch + 1, i + 1, running_loss / 100))\n",
    "            running_loss = 0.0\n",
    "\n",
    "print(f\"Finished Training. Final loss = {loss.item()}, Total params = {total_params}\")\n",
    "\n",
    "correct,total = 0,0\n",
    "for i,vdata in enumerate(test_loader):\n",
    "    tinputs,tlabels = vdata[0].to(device), vdata[1].to(device)\n",
    "    toutputs = model(tinputs)\n",
    "\n",
    "    _,predicted = torch.max(toutputs,1)\n",
    "    total += tlabels.size(0)\n",
    "    correct += (predicted==tlabels).sum()\n",
    "        \n",
    "print(f\"Correct = {correct}, Total = {total}\")"
   ]
  },
  {
   "cell_type": "code",
   "execution_count": null,
   "metadata": {},
   "outputs": [],
   "source": []
  }
 ],
 "metadata": {
  "kernelspec": {
   "display_name": "Python 3",
   "language": "python",
   "name": "python3"
  },
  "language_info": {
   "codemirror_mode": {
    "name": "ipython",
    "version": 3
   },
   "file_extension": ".py",
   "mimetype": "text/x-python",
   "name": "python",
   "nbconvert_exporter": "python",
   "pygments_lexer": "ipython3",
   "version": "3.11.0"
  }
 },
 "nbformat": 4,
 "nbformat_minor": 2
}
