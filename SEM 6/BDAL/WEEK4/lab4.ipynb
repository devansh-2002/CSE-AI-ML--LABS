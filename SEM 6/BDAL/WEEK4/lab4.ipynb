{
 "cells": [
  {
   "cell_type": "markdown",
   "metadata": {},
   "source": [
    "LAB4:"
   ]
  },
  {
   "cell_type": "markdown",
   "metadata": {},
   "source": [
    "q1)Demonstrate how to load a dataset suitable for recommendation systems into a PySpark\n",
    "DataFrame."
   ]
  },
  {
   "cell_type": "code",
   "execution_count": null,
   "metadata": {},
   "outputs": [],
   "source": [
    "import pyspark\n",
    "from pyspark.sql import SparkSession\n",
    "from pyspark import SparkContext\n",
    "spark = SparkSession.builder.appName('MovieRecommendation').getOrCreate()"
   ]
  },
  {
   "cell_type": "code",
   "execution_count": null,
   "metadata": {},
   "outputs": [],
   "source": [
    "json_file_path = \"movies.json\""
   ]
  },
  {
   "cell_type": "code",
   "execution_count": null,
   "metadata": {},
   "outputs": [],
   "source": [
    "movie_df = spark.read.json(json_file_path)"
   ]
  },
  {
   "cell_type": "code",
   "execution_count": null,
   "metadata": {},
   "outputs": [],
   "source": [
    "movie_df.printSchema()\n",
    "movie_df.show()"
   ]
  },
  {
   "cell_type": "code",
   "execution_count": null,
   "metadata": {
    "scrolled": true
   },
   "outputs": [],
   "source": [
    "#q2\n",
    "from pyspark.ml.feature import StringIndexer\n",
    "from pyspark.sql import SparkSession\n",
    "from pyspark.ml.recommendation import ALS\n",
    "from pyspark.ml import Pipeline\n",
    "\n",
    "# Create a Spark session\n",
    "spark = SparkSession.builder.appName(\"RecommendationModel\").getOrCreate()\n",
    "\n",
    "# Read data from a JSON file\n",
    "json_file_path = \"movies.json\"\n",
    "df = spark.read.json(json_file_path)\n",
    "\n",
    "# Extract relevant columns for recommendation\n",
    "df = df.select(\"user_id\", \"product_id\", \"score\")\n",
    "\n",
    "# Convert user_id and product_id to numeric indices\n",
    "user_indexer = StringIndexer(inputCol=\"user_id\", outputCol=\"user_index\", handleInvalid=\"keep\")\n",
    "product_indexer = StringIndexer(inputCol=\"product_id\", outputCol=\"product_index\", handleInvalid=\"keep\")\n",
    "\n",
    "# Create an ALS (Alternating Least Squares) recommendation model\n",
    "als = ALS(maxIter=5, regParam=0.01, userCol=\"user_index\", itemCol=\"product_index\", ratingCol=\"score\")\n",
    "\n",
    "# Create a pipeline to execute the indexers and ALS model\n",
    "pipeline = Pipeline(stages=[user_indexer, product_indexer, als])\n",
    "\n",
    "# Split the data into training and test sets\n",
    "(training_data, test_data) = df.randomSplit([0.8, 0.2])\n",
    "\n",
    "# Train the recommendation model\n",
    "model = pipeline.fit(training_data)\n",
    "\n",
    "# Make predictions on the test set\n",
    "predictions = model.transform(test_data)\n",
    "\n",
    "# Show the predictions\n",
    "predictions.select(\"user_id\", \"product_id\", \"prediction\").show()\n",
    "\n",
    "# Stop the Spark session\n",
    "spark.stop()\n"
   ]
  },
  {
   "cell_type": "code",
   "execution_count": null,
   "metadata": {},
   "outputs": [],
   "source": [
    "#q3\n",
    "from pyspark.sql import SparkSession\n",
    "from pyspark.ml.recommendation import ALS\n",
    "from pyspark.ml.feature import StringIndexer\n",
    "from pyspark.ml import Pipeline\n",
    "\n",
    "# Create a Spark session\n",
    "spark = SparkSession.builder.appName(\"RecommendationModel\").getOrCreate()\n",
    "\n",
    "# Read data from a JSON file\n",
    "json_file_path = \"movies.json\"\n",
    "df = spark.read.json(json_file_path)\n",
    "\n",
    "# Extract relevant columns for recommendation\n",
    "df = df.select(\"user_id\", \"product_id\", \"score\")\n",
    "\n",
    "# Convert user_id and product_id to numeric indices\n",
    "user_indexer = StringIndexer(inputCol=\"user_id\", outputCol=\"user_index\", handleInvalid=\"keep\")\n",
    "product_indexer = StringIndexer(inputCol=\"product_id\", outputCol=\"product_index\", handleInvalid=\"keep\")\n",
    "\n",
    "# Create an ALS (Alternating Least Squares) recommendation model\n",
    "als = ALS(maxIter=5, regParam=0.01, userCol=\"user_index\", itemCol=\"product_index\", ratingCol=\"score\")\n",
    "\n",
    "# Create a pipeline to execute the indexers and ALS model\n",
    "pipeline = Pipeline(stages=[user_indexer, product_indexer, als])\n",
    "\n",
    "# Split the data into training and test sets\n",
    "(training_data, test_data) = df.randomSplit([0.8, 0.2])\n",
    "\n",
    "# Train the recommendation model\n",
    "model = pipeline.fit(training_data)\n",
    "\n",
    "# Make predictions on the test set\n",
    "predictions = model.transform(test_data)\n",
    "\n",
    "# Show the predictions\n",
    "predictions.select(\"user_id\", \"product_id\", \"prediction\").show()\n",
    "\n",
    "# Stop the Spark session\n",
    "spark.stop()"
   ]
  },
  {
   "cell_type": "code",
   "execution_count": null,
   "metadata": {},
   "outputs": [],
   "source": [
    "#q4\n",
    "from pyspark.sql import SparkSession\n",
    "from pyspark.ml.recommendation import ALS\n",
    "from pyspark.ml.feature import StringIndexer\n",
    "from pyspark.ml import Pipeline\n",
    "from pyspark.ml.evaluation import RegressionEvaluator\n",
    "\n",
    "# Create a Spark session\n",
    "spark = SparkSession.builder.appName(\"RecommendationModel\").getOrCreate()\n",
    "\n",
    "# Read data from a JSON file\n",
    "json_file_path = \"movies.json\"\n",
    "df = spark.read.json(json_file_path)\n",
    "\n",
    "# Extract relevant columns for recommendation\n",
    "df = df.select(\"user_id\", \"product_id\", \"score\")\n",
    "\n",
    "# Check for missing or NaN values in the 'score' column\n",
    "df = df.dropna(subset=[\"score\"])\n",
    "\n",
    "# Convert user_id and product_id to numeric indices\n",
    "user_indexer = StringIndexer(inputCol=\"user_id\", outputCol=\"user_index\", handleInvalid=\"keep\")\n",
    "product_indexer = StringIndexer(inputCol=\"product_id\", outputCol=\"product_index\", handleInvalid=\"keep\")\n",
    "\n",
    "# Create an ALS (Alternating Least Squares) recommendation model\n",
    "als = ALS(maxIter=5, regParam=0.01, userCol=\"user_index\", itemCol=\"product_index\", ratingCol=\"score\")\n",
    "\n",
    "# Create a pipeline to execute the indexers and ALS model\n",
    "dd\n",
    "# Split the data into training and test sets\n",
    "(training_data, test_data) = df.randomSplit([0.8, 0.2])\n",
    "\n",
    "# Train the recommendation model\n",
    "model = pipeline.fit(training_data)\n",
    "\n",
    "# Make predictions on the test set\n",
    "predictions = model.transform(test_data)\n",
    "\n",
    "# Check for NaN values in the 'prediction' column\n",
    "predictions = predictions.dropna(subset=[\"prediction\"])\n",
    "\n",
    "# Evaluate the model using RMSE\n",
    "evaluator = RegressionEvaluator(metricName=\"rmse\", labelCol=\"score\", predictionCol=\"prediction\")\n",
    "rmse = evaluator.evaluate(predictions)\n",
    "print(f\"Root Mean Squared Error (RMSE): {rmse}\")\n",
    "\n",
    "# Stop the Spark session\n",
    "spark.stop()\n"
   ]
  },
  {
   "cell_type": "code",
   "execution_count": null,
   "metadata": {},
   "outputs": [],
   "source": []
  }
 ],
 "metadata": {
  "kernelspec": {
   "display_name": "Python 3",
   "language": "python",
   "name": "python3"
  },
  "language_info": {
   "codemirror_mode": {
    "name": "ipython",
    "version": 3
   },
   "file_extension": ".py",
   "mimetype": "text/x-python",
   "name": "python",
   "nbconvert_exporter": "python",
   "pygments_lexer": "ipython3",
   "version": "3.7.0"
  }
 },
 "nbformat": 4,
 "nbformat_minor": 2
}
