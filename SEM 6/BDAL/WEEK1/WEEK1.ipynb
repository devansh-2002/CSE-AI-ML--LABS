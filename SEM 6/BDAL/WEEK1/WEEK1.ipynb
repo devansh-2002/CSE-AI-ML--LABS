{
 "cells": [
  {
   "cell_type": "markdown",
   "metadata": {},
   "source": [
    "# Introduction to Basic PySpark Programs"
   ]
  },
  {
   "cell_type": "markdown",
   "metadata": {},
   "source": [
    "Lab Exercises:\n",
    "1 Write a PySpark program to square set of integers.\n",
    "2 Write a PySpark program to find the maximum of given set of numbers.\n",
    "3 Write a PySpark program to find average of N numbers.\n",
    "4 Demonstrate how to read a CSV file into a PySpark DataFrame.\n",
    "5 Use PySpark commands to display the first few rows and schema of a DataFrame.\n",
    "6 Calculate basic summary statistics for a specific column in the DataFrame."
   ]
  },
  {
   "cell_type": "markdown",
   "metadata": {},
   "source": [
    "PySpark is the Python API to use Spark. Spark is an open-source, cluster computing system which is used for big data solution. It is lightning fast technology that is designed for fast computation.\n"
   ]
  },
  {
   "cell_type": "code",
   "execution_count": 16,
   "metadata": {},
   "outputs": [],
   "source": [
    "import pyspark\n",
    "import os\n",
    "import sys\n",
    "from pyspark import SparkContext, SparkConf\n",
    "os.environ['PYSPARK_PYTHON']=sys.executable\n",
    "os.environ['PYSPARK_DRIVER_PYTHON']=sys.executable\n",
    "from pyspark.sql import SparkSession "
   ]
  },
  {
   "cell_type": "code",
   "execution_count": 18,
   "metadata": {},
   "outputs": [
    {
     "name": "stderr",
     "output_type": "stream",
     "text": [
      "/home/lplab/anaconda3/lib/python3.7/site-packages/pyspark/context.py:317: FutureWarning: Python 3.7 support is deprecated in Spark 3.4.\n",
      "  warnings.warn(\"Python 3.7 support is deprecated in Spark 3.4.\", FutureWarning)\n"
     ]
    }
   ],
   "source": [
    "spark=SparkSession.builder.config(\"spark.driver.memory\",\"16g\").appName('square').getOrCreate()"
   ]
  },
  {
   "cell_type": "code",
   "execution_count": 29,
   "metadata": {},
   "outputs": [
    {
     "name": "stdout",
     "output_type": "stream",
     "text": [
      "root\n",
      " |-- first_name: string (nullable = true)\n",
      " |-- age: long (nullable = true)\n",
      "\n",
      "+----------+---+\n",
      "|first_name|age|\n",
      "+----------+---+\n",
      "|       joe| 34|\n",
      "|     luisa| 22|\n",
      "+----------+---+\n",
      "\n"
     ]
    }
   ],
   "source": [
    "import pandas as pd \n",
    "from pyspark.sql import functions as F\n",
    "from pyspark.sql.types import *\n",
    "df = spark.createDataFrame([(\"joe\", 34), (\"luisa\", 22)], [\"first_name\", \"age\"])\n",
    "\n",
    "df.printSchema()\n",
    "df.show()"
   ]
  },
  {
   "cell_type": "code",
   "execution_count": 43,
   "metadata": {},
   "outputs": [
    {
     "name": "stdout",
     "output_type": "stream",
     "text": [
      "+-----------+\n",
      "|(age * age)|\n",
      "+-----------+\n",
      "|       1156|\n",
      "|        484|\n",
      "+-----------+\n",
      "\n",
      "+----------+------+\n",
      "|first_name|Square|\n",
      "+----------+------+\n",
      "|       joe|  1156|\n",
      "|     luisa|   484|\n",
      "+----------+------+\n",
      "\n"
     ]
    }
   ],
   "source": [
    "df.select(df['age']*df['age']).show()\n",
    "df = df.withColumn(\"age\",df['age']*df['age'])\n",
    "df.withColumnRenamed(\"age\",\"Square\").show()"
   ]
  },
  {
   "cell_type": "code",
   "execution_count": 49,
   "metadata": {},
   "outputs": [
    {
     "name": "stdout",
     "output_type": "stream",
     "text": [
      "root\n",
      " |-- integers: long (nullable = true)\n",
      " |-- floats: double (nullable = true)\n",
      " |-- integer_arrays: array (nullable = true)\n",
      " |    |-- element: long (containsNull = true)\n",
      "\n",
      "+--------+------+--------------+\n",
      "|integers|floats|integer_arrays|\n",
      "+--------+------+--------------+\n",
      "|       1|  -1.0|        [1, 2]|\n",
      "|       2|   0.5|     [3, 4, 5]|\n",
      "|       3|   2.7|  [6, 7, 8, 9]|\n",
      "+--------+------+--------------+\n",
      "\n"
     ]
    }
   ],
   "source": [
    "df = spark.createDataFrame([(1, -1.0,[1,2]), (2,0.5,[3,4,5]),(3,2.7,[6,7,8,9])], [\"integers\", \"floats\",\"integer_arrays\"])\n",
    "\n",
    "df.printSchema()\n",
    "df.show()"
   ]
  },
  {
   "cell_type": "code",
   "execution_count": 54,
   "metadata": {},
   "outputs": [],
   "source": [
    "from pyspark.sql.functions import udf\n",
    "def square(x):\n",
    "    return x**2"
   ]
  },
  {
   "cell_type": "code",
   "execution_count": 55,
   "metadata": {},
   "outputs": [
    {
     "name": "stdout",
     "output_type": "stream",
     "text": [
      "+--------+------+-----------+-------------+\n",
      "|integers|floats|int_squared|float_squared|\n",
      "+--------+------+-----------+-------------+\n",
      "|       1|  -1.0|          1|         null|\n",
      "|       2|   0.5|          4|         null|\n",
      "|       3|   2.7|          9|         null|\n",
      "+--------+------+-----------+-------------+\n",
      "\n"
     ]
    }
   ],
   "source": [
    "from pyspark.sql import udf\n",
    "square_udf_int=F.udf(lambda z: square(z),IntegerType())\n",
    "(\n",
    "    df.select('integers','floats',\n",
    "              square_udf_int('Integers').alias('int_squared'),\n",
    "              square_udf_int('floats').alias('float_squared')).show()\n",
    ")"
   ]
  },
  {
   "cell_type": "code",
   "execution_count": 71,
   "metadata": {},
   "outputs": [],
   "source": [
    "# df.select('integers',square('integers').alias('int_squared')).show()"
   ]
  },
  {
   "cell_type": "code",
   "execution_count": 60,
   "metadata": {},
   "outputs": [
    {
     "name": "stdout",
     "output_type": "stream",
     "text": [
      "+--------+------+-----------+-------------+\n",
      "|integers|floats|int_squared|float_squared|\n",
      "+--------+------+-----------+-------------+\n",
      "|       1|  -1.0|       null|          1.0|\n",
      "|       2|   0.5|       null|         0.25|\n",
      "|       3|   2.7|       null|         7.29|\n",
      "+--------+------+-----------+-------------+\n",
      "\n"
     ]
    }
   ],
   "source": [
    "square_udf_float = F.udf(lambda z: square(z), FloatType())  \n",
    "(  \n",
    "    df.select('integers',  \n",
    "                'floats',  \n",
    "                square_udf_float('integers').alias('int_squared'),  \n",
    "                square_udf_float('floats').alias('float_squared'))  \n",
    "    .show()  \n",
    ")  "
   ]
  },
  {
   "cell_type": "code",
   "execution_count": 62,
   "metadata": {},
   "outputs": [
    {
     "name": "stdout",
     "output_type": "stream",
     "text": [
      "+--------------+------------------------+\n",
      "|integer_arrays|<lambda>(integer_arrays)|\n",
      "+--------------+------------------------+\n",
      "|        [1, 2]|              [1.0, 4.0]|\n",
      "|     [3, 4, 5]|       [9.0, 16.0, 25.0]|\n",
      "|  [6, 7, 8, 9]|    [36.0, 49.0, 64.0...|\n",
      "+--------------+------------------------+\n",
      "\n"
     ]
    }
   ],
   "source": [
    "from pyspark.sql.types import ArrayType  \n",
    "def square_list(x):  \n",
    "    return [float(val)**2 for val in x]  \n",
    "square_list_udf = F.udf(lambda y: square_list(y), ArrayType(FloatType()))  \n",
    "df.select('integer_arrays', square_list_udf('integer_arrays')).show()"
   ]
  },
  {
   "cell_type": "code",
   "execution_count": 67,
   "metadata": {},
   "outputs": [
    {
     "name": "stdout",
     "output_type": "stream",
     "text": [
      "3\n"
     ]
    }
   ],
   "source": [
    "#2\n",
    "print(df.select(\"integers\").rdd.max()[0])"
   ]
  },
  {
   "cell_type": "code",
   "execution_count": 70,
   "metadata": {},
   "outputs": [
    {
     "name": "stdout",
     "output_type": "stream",
     "text": [
      "+-------------+\n",
      "|avg(integers)|\n",
      "+-------------+\n",
      "|          2.0|\n",
      "+-------------+\n",
      "\n",
      "None\n"
     ]
    }
   ],
   "source": [
    "#3\n",
    "print(df.agg(F.avg(df['integers'])).show())"
   ]
  },
  {
   "cell_type": "code",
   "execution_count": 74,
   "metadata": {},
   "outputs": [],
   "source": [
    "#4,5,6\n",
    "spark=SparkSession.builder.appName('DATA ANALYSIS').getOrCreate()\n",
    "df=spark.read.csv('data.csv',header=\"True\",inferSchema=\"True\")"
   ]
  },
  {
   "cell_type": "code",
   "execution_count": 78,
   "metadata": {},
   "outputs": [
    {
     "name": "stdout",
     "output_type": "stream",
     "text": [
      "root\n",
      " |-- name: string (nullable = true)\n",
      " |-- age: integer (nullable = true)\n",
      "\n",
      "+----+---+\n",
      "|name|age|\n",
      "+----+---+\n",
      "|  ab| 23|\n",
      "|  cd| 45|\n",
      "|  ef| 42|\n",
      "|  gh| 13|\n",
      "|  ij| 38|\n",
      "+----+---+\n",
      "\n",
      "+-------+----+------------------+\n",
      "|summary|name|               age|\n",
      "+-------+----+------------------+\n",
      "|  count|   5|                 5|\n",
      "|   mean|null|              32.2|\n",
      "| stddev|null|13.663820841916802|\n",
      "|    min|  ab|                13|\n",
      "|    25%|null|                23|\n",
      "|    50%|null|                38|\n",
      "|    75%|null|                42|\n",
      "|    max|  ij|                45|\n",
      "+-------+----+------------------+\n",
      "\n",
      "+-------+------------------+\n",
      "|summary|               age|\n",
      "+-------+------------------+\n",
      "|  count|                 5|\n",
      "|   mean|              32.2|\n",
      "| stddev|13.663820841916802|\n",
      "|    min|                13|\n",
      "|    25%|                23|\n",
      "|    50%|                38|\n",
      "|    75%|                42|\n",
      "|    max|                45|\n",
      "+-------+------------------+\n",
      "\n"
     ]
    }
   ],
   "source": [
    "df.printSchema()\n",
    "df.show()\n",
    "df.head()\n",
    "df.summary().show()\n",
    "df.select('age').summary().show()"
   ]
  },
  {
   "cell_type": "code",
   "execution_count": null,
   "metadata": {},
   "outputs": [],
   "source": []
  }
 ],
 "metadata": {
  "kernelspec": {
   "display_name": "Python 3",
   "language": "python",
   "name": "python3"
  },
  "language_info": {
   "codemirror_mode": {
    "name": "ipython",
    "version": 3
   },
   "file_extension": ".py",
   "mimetype": "text/x-python",
   "name": "python",
   "nbconvert_exporter": "python",
   "pygments_lexer": "ipython3",
   "version": "3.7.0"
  }
 },
 "nbformat": 4,
 "nbformat_minor": 2
}
